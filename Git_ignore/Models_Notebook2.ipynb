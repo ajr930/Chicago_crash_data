{
 "cells": [
  {
   "cell_type": "code",
   "execution_count": 1,
   "id": "b0028897",
   "metadata": {},
   "outputs": [],
   "source": [
    "import pandas as pd\n",
    "import numpy as np\n",
    "import matplotlib.pyplot as plt\n",
    "import seaborn as sns\n",
    "from sklearn.preprocessing import LabelEncoder, LabelBinarizer\n",
    "from sklearn.preprocessing import OneHotEncoder, StandardScaler\n",
    "from sklearn.metrics import confusion_matrix, accuracy_score, roc_auc_score, roc_curve, auc \n",
    "from sklearn import metrics\n",
    "from sklearn.metrics import f1_score, classification_report,precision_score,recall_score\n",
    "import scikitplot as skplt\n",
    "from sklearn.model_selection import train_test_split, cross_val_score, ShuffleSplit, GridSearchCV\n",
    "from sklearn.dummy import DummyClassifier\n",
    "from sklearn.linear_model import LogisticRegression\n",
    "from sklearn.tree import DecisionTreeClassifier\n",
    "\n",
    "from sklearn.ensemble import AdaBoostRegressor, GradientBoostingRegressor, \\\n",
    "AdaBoostClassifier, GradientBoostingClassifier\n",
    "from sklearn.tree import DecisionTreeRegressor\n",
    "\n",
    "import xgboost as xgb"
   ]
  },
  {
   "cell_type": "code",
   "execution_count": 2,
   "id": "f3384675",
   "metadata": {},
   "outputs": [],
   "source": [
    "df= pd.read_csv('Cleaned_Crashes')"
   ]
  },
  {
   "cell_type": "markdown",
   "id": "3ac81fda",
   "metadata": {},
   "source": [
    "### Need to trim the categories within our target dataset\n"
   ]
  },
  {
   "cell_type": "code",
   "execution_count": 3,
   "id": "45e30c40",
   "metadata": {},
   "outputs": [],
   "source": [
    "df['PRIM_CONTRIBUTORY_CAUSE'] = df['PRIM_CONTRIBUTORY_CAUSE'].replace(r'[^\\w\\s]+', '')\n",
    "df['PRIM_CONTRIBUTORY_CAUSE'] = df['PRIM_CONTRIBUTORY_CAUSE'].replace({'MOTORCYCLE ADVANCING LEGALLY ON RED LIGHT':'BICYCLE ADVANCING LEGALLY ON RED LIGHT'})\n",
    "df['PRIM_CONTRIBUTORY_CAUSE'] = df['PRIM_CONTRIBUTORY_CAUSE'].replace({'BICYCLE ADVANCING LEGALLY ON RED LIGHT':'TURNING RIGHT ON RED'})\n",
    "df['PRIM_CONTRIBUTORY_CAUSE'] = df['PRIM_CONTRIBUTORY_CAUSE'].replace({'PASSING STOPPED SCHOOL BUS':'RELATED TO BUS STOP'})\n",
    "df['PRIM_CONTRIBUTORY_CAUSE'] = df['PRIM_CONTRIBUTORY_CAUSE'].replace({'RELATED TO BUS STOP':'SCHOOL BUS RELATED'})\n",
    "df['PRIM_CONTRIBUTORY_CAUSE'] = df['PRIM_CONTRIBUTORY_CAUSE'].replace({'TEXTING':'DISTRACTION'})\n",
    "df['PRIM_CONTRIBUTORY_CAUSE'] = df['PRIM_CONTRIBUTORY_CAUSE'].replace({'DISTRACTION - OTHER ELECTRONIC DEVICE (NAVIGATION DEVICE, DVD PLAYER, ETC.)':'DISTRACTION'})\n",
    "df['PRIM_CONTRIBUTORY_CAUSE'] = df['PRIM_CONTRIBUTORY_CAUSE'].replace({'CELL PHONE USE OTHER THAN TEXTING':'DISTRACTION'})\n",
    "df['PRIM_CONTRIBUTORY_CAUSE'] = df['PRIM_CONTRIBUTORY_CAUSE'].replace({'DISREGARDING YIELD SIGN':'DISREGARDING ROAD MARKINGS'})\n",
    "df['PRIM_CONTRIBUTORY_CAUSE'] = df['PRIM_CONTRIBUTORY_CAUSE'].replace({'DISREGARDING ROAD MARKINGS':'DISREGARDING OTHER TRAFFIC SIGNS'})\n",
    "df['PRIM_CONTRIBUTORY_CAUSE'] = df['PRIM_CONTRIBUTORY_CAUSE'].replace({'ANIMAL':'EVASIVE ACTION DUE TO ANIMAL, OBJECT, NONMOTORIST'})\n",
    "df['PRIM_CONTRIBUTORY_CAUSE'] = df['PRIM_CONTRIBUTORY_CAUSE'].replace({'EXCEEDING SAFE SPEED FOR CONDITIONS':'EXCEEDING AUTHORIZED SPEED LIMIT'})\n",
    "df['PRIM_CONTRIBUTORY_CAUSE'] = df['PRIM_CONTRIBUTORY_CAUSE'].replace({'EXCEEDING AUTHORIZED SPEED LIMIT':'SPEEDING'})\n",
    "df['PRIM_CONTRIBUTORY_CAUSE'] = df['PRIM_CONTRIBUTORY_CAUSE'].replace({'DISTRACTION - FROM OUTSIDE VEHICLE':'DISTRACTION'})\n",
    "df['PRIM_CONTRIBUTORY_CAUSE'] = df['PRIM_CONTRIBUTORY_CAUSE'].replace({'HAD BEEN DRINKING (USE WHEN ARREST IS NOT MADE)':'UNDER THE INFLUENCE OF ALCOHOL/DRUGS (USE WHEN ARREST IS EFFECTED)'})\n",
    "df['PRIM_CONTRIBUTORY_CAUSE'] = df['PRIM_CONTRIBUTORY_CAUSE'].replace({'DISTRACTION - FROM INSIDE VEHICLE':'DISTRACTION'})\n",
    "df['PRIM_CONTRIBUTORY_CAUSE'] = df['PRIM_CONTRIBUTORY_CAUSE'].replace({'DISREGARDING OTHER TRAFFIC SIGNS':'DISREGARDING TRAFFIC SIGNALS'})\n",
    "df['PRIM_CONTRIBUTORY_CAUSE'] = df['PRIM_CONTRIBUTORY_CAUSE'].replace({'DISREGARDING TRAFFIC SIGNALS':'DISREGARDING TRAFFIC SIGNS/SIGNALS'})\n",
    "df['PRIM_CONTRIBUTORY_CAUSE'] = df['PRIM_CONTRIBUTORY_CAUSE'].replace({'DISREGARDING STOP SIGN':'DISREGARDING TRAFFIC SIGNS/SIGNALS'})\n",
    "df['PRIM_CONTRIBUTORY_CAUSE'] = df['PRIM_CONTRIBUTORY_CAUSE'].replace({'UNDER THE INFLUENCE OF ALCOHOL/DRUGS (USE WHEN ARREST IS EFFECTED)':'OPERATING VEHICLE IN ERRATIC, RECKLESS, CARELESS, NEGLIGENT OR AGGRESSIVE MANNER'})\n",
    "df['PRIM_CONTRIBUTORY_CAUSE'] = df['PRIM_CONTRIBUTORY_CAUSE'].replace({'OPERATING VEHICLE IN ERRATIC, RECKLESS, CARELESS, NEGLIGENT OR AGGRESSIVE MANNER': 'OPERATING VEHICLE IN NEGLIGENT MANNER/UNDER THE INFLUENCE'})\n",
    "df['PRIM_CONTRIBUTORY_CAUSE'] = df['PRIM_CONTRIBUTORY_CAUSE'].replace({'DRIVING ON WRONG SIDE/WRONG WAY':'DISREGARDING TRAFFIC SIGNS/SIGNALS'})\n",
    "df['PRIM_CONTRIBUTORY_CAUSE'] = df['PRIM_CONTRIBUTORY_CAUSE'].replace({'ROAD CONSTRUCTION/MAINTENANCE':'ROAD ENGINEERING/SURFACE/MARKING DEFECTS'})\n",
    "df['PRIM_CONTRIBUTORY_CAUSE'] = df['PRIM_CONTRIBUTORY_CAUSE'].replace({'ROAD ENGINEERING/SURFACE/MARKING DEFECTS':'ROAD CONSTRUCTION/MAINTENANCE/DEFECTS' })\n",
    "df['PRIM_CONTRIBUTORY_CAUSE'] = df['PRIM_CONTRIBUTORY_CAUSE'].replace({'IMPROPER OVERTAKING/PASSING':'IMPROPER LANE USAGE' })\n",
    "df['PRIM_CONTRIBUTORY_CAUSE'] = df['PRIM_CONTRIBUTORY_CAUSE'].replace({'PHYSICAL CONDITION OF DRIVER':'OPERATING VEHICLE IN NEGLIGENT MANNER/UNDER THE INFLUENCE' })\n",
    "df['PRIM_CONTRIBUTORY_CAUSE'] = df['PRIM_CONTRIBUTORY_CAUSE'].replace({'FOLLOWING TOO CLOSELY':'FAILING TO REDUCE SPEED TO AVOID CRASH'})\n",
    "df['PRIM_CONTRIBUTORY_CAUSE'] = df['PRIM_CONTRIBUTORY_CAUSE'].replace({'FAILING TO REDUCE SPEED TO AVOID CRASH':'FAILING TO REDUCE SPEED TO AVOID CRASH/TOO CLOSE'})\n",
    "df['PRIM_CONTRIBUTORY_CAUSE'] = df['PRIM_CONTRIBUTORY_CAUSE'].replace({'IMPROPER TURNING/NO SIGNAL':'DRIVING SKILLS/KNOWLEDGE/EXPERIENCE'})\n",
    "df['PRIM_CONTRIBUTORY_CAUSE'] = df['PRIM_CONTRIBUTORY_CAUSE'].replace({'IMPROPER BACKING':'DRIVING SKILLS/KNOWLEDGE/EXPERIENCE'})\n",
    "df['PRIM_CONTRIBUTORY_CAUSE'] = df['PRIM_CONTRIBUTORY_CAUSE'].replace({'TURNING RIGHT ON RED':'FAILING TO YIELD RIGHT-OF-WAY'})\n",
    "df['PRIM_CONTRIBUTORY_CAUSE'] = df['PRIM_CONTRIBUTORY_CAUSE'].replace({'SPEEDING':'DISREGARDING TRAFFIC SIGNS/SIGNALS'})\n",
    "df['PRIM_CONTRIBUTORY_CAUSE'] = df['PRIM_CONTRIBUTORY_CAUSE'].replace({'VISION OBSCURED (SIGNS, TREE LIMBS, BUILDINGS, ETC.)':'PHYSICAL ROAD HINDERANCES'})\n",
    "df['PRIM_CONTRIBUTORY_CAUSE'] = df['PRIM_CONTRIBUTORY_CAUSE'].replace({'ROAD CONSTRUCTION/MAINTENANCE/DEFECTS':'PHYSICAL ROAD HINDERANCES'})\n",
    "df['PRIM_CONTRIBUTORY_CAUSE'] = df['PRIM_CONTRIBUTORY_CAUSE'].replace({'EVASIVE ACTION DUE TO ANIMAL, OBJECT, NONMOTORIST':'PHYSICAL ROAD HINDERANCES'})\n",
    "df['PRIM_CONTRIBUTORY_CAUSE'] = df['PRIM_CONTRIBUTORY_CAUSE'].replace({'OBSTRUCTED CROSSWALKS':'PHYSICAL ROAD HINDERANCES'})\n",
    "df= df[(df['PRIM_CONTRIBUTORY_CAUSE'] != \"NOT APPLICABLE\")]\n",
    "df['PRIM_CONTRIBUTORY_CAUSE'] = df['PRIM_CONTRIBUTORY_CAUSE'].replace({'OBSTRUCTED CROSSWALKS':'PHYSICAL ROAD HINDERANCES'})\n",
    "df = df.drop(['Unnamed: 0','CRASH_RECORD_ID', 'CRASH_DATE_x', 'LATITUDE', 'LONGITUDE'], axis=1)"
   ]
  },
  {
   "cell_type": "code",
   "execution_count": 43,
   "id": "0899214b",
   "metadata": {},
   "outputs": [
    {
     "data": {
      "text/plain": [
       "Text(0, 0.5, 'Count')"
      ]
     },
     "execution_count": 43,
     "metadata": {},
     "output_type": "execute_result"
    },
    {
     "data": {
      "image/png": "[encoded data removed]",
      "text/plain": [
       "<Figure size 1080x1080 with 1 Axes>"
      ]
     },
     "metadata": {
      "needs_background": "light"
     },
     "output_type": "display_data"
    }
   ],
   "source": [
    "injury_day = df.groupby('CRASH_DAY_OF_WEEK')['INJURIES_TOTAL'].sum()\n",
    "weekday_order = [\"Sun\", \"Mon\", \"Tue\", \"Wed\", \"Thu\", \"Fri\", \"Sat\"]\n",
    "plt.figure(figsize=(15, 15))\n",
    "ax= sns.barplot(x=injury_day.index, y=df.groupby(\"CRASH_DAY_OF_WEEK\")[\"CRASH_DAY_OF_WEEK\"].count().values)\n",
    "\n",
    "ax.set_xticklabels(weekday_order)\n",
    "ax.set_xlabel(\"Day of Week\",fontsize=15)\n",
    "ax.set_ylabel(\"Count\",fontsize=15)"
   ]
  },
  {
   "cell_type": "markdown",
   "id": "d98d2895",
   "metadata": {},
   "source": [
    "### Dummy Model \n"
   ]
  },
  {
   "cell_type": "code",
   "execution_count": 72,
   "id": "a3a501c9",
   "metadata": {},
   "outputs": [],
   "source": [
    "X = df.drop('PRIM_CONTRIBUTORY_CAUSE',axis=1)\n",
    "y = df['PRIM_CONTRIBUTORY_CAUSE']\n",
    "X_train, X_test, y_train, y_test = train_test_split(X, y, test_size=0.25, random_state=42, stratify=y)"
   ]
  },
  {
   "cell_type": "code",
   "execution_count": 73,
   "id": "74bfd69b",
   "metadata": {},
   "outputs": [
    {
     "data": {
      "text/plain": [
       "DummyClassifier()"
      ]
     },
     "execution_count": 73,
     "metadata": {},
     "output_type": "execute_result"
    }
   ],
   "source": [
    "dummy = DummyClassifier()\n",
    "dummy.fit(X_train,y_train)"
   ]
  },
  {
   "cell_type": "code",
   "execution_count": 74,
   "id": "7bba2904",
   "metadata": {},
   "outputs": [
    {
     "data": {
      "text/plain": [
       "0.26346028582404063"
      ]
     },
     "execution_count": 74,
     "metadata": {},
     "output_type": "execute_result"
    }
   ],
   "source": [
    "dummy.score(X_train, y_train)"
   ]
  },
  {
   "cell_type": "markdown",
   "id": "d5af0155",
   "metadata": {},
   "source": [
    "## Logistic Regression"
   ]
  },
  {
   "cell_type": "markdown",
   "id": "5e2d9be7",
   "metadata": {},
   "source": [
    "#### Only using initial 'int64' DataTypes"
   ]
  },
  {
   "cell_type": "code",
   "execution_count": 27,
   "id": "fd07dfba",
   "metadata": {},
   "outputs": [],
   "source": [
    "log_int_df= df.select_dtypes('int64')\n",
    "X = log_int_df\n",
    "y = df['PRIM_CONTRIBUTORY_CAUSE']\n",
    "X_train, X_test, y_train, y_test = train_test_split(X, y, test_size=0.25, random_state=42, stratify=y)"
   ]
  },
  {
   "cell_type": "code",
   "execution_count": 28,
   "id": "fe01783d",
   "metadata": {},
   "outputs": [
    {
     "name": "stdout",
     "output_type": "stream",
     "text": [
      "Accuracy: 0.29122824598323144 \n"
     ]
    },
    {
     "name": "stderr",
     "output_type": "stream",
     "text": [
      "/Users/avijames/anaconda3/lib/python3.8/site-packages/sklearn/linear_model/_logistic.py:763: ConvergenceWarning: lbfgs failed to converge (status=1):\n",
      "STOP: TOTAL NO. of ITERATIONS REACHED LIMIT.\n",
      "\n",
      "Increase the number of iterations (max_iter) or scale the data as shown in:\n",
      "    https://scikit-learn.org/stable/modules/preprocessing.html\n",
      "Please also refer to the documentation for alternative solver options:\n",
      "    https://scikit-learn.org/stable/modules/linear_model.html#logistic-regression\n",
      "  n_iter_i = _check_optimize_result(\n"
     ]
    }
   ],
   "source": [
    "logreg =LogisticRegression(random_state=42, solver='lbfgs', multi_class='multinomial', max_iter=200)\n",
    "\n",
    "logreg.fit(X_train, y_train)\n",
    "y_pred = logreg.predict(X_test)\n",
    "\n",
    "\n",
    "acc_logreg = accuracy_score(y_pred, y_test)\n",
    "print('Accuracy: {} '.format(acc_logreg))"
   ]
  },
  {
   "cell_type": "markdown",
   "id": "4a2e310c",
   "metadata": {},
   "source": [
    "#### Only using 'float64' DataTypes"
   ]
  },
  {
   "cell_type": "code",
   "execution_count": 29,
   "id": "77ff33a7",
   "metadata": {},
   "outputs": [],
   "source": [
    "log_float_df= df.select_dtypes('float64')\n",
    "X = log_float_df\n",
    "y = df['PRIM_CONTRIBUTORY_CAUSE']\n",
    "X_train, X_test, y_train, y_test = train_test_split(X, y, test_size=0.25, random_state=42, stratify=y)"
   ]
  },
  {
   "cell_type": "code",
   "execution_count": 30,
   "id": "28120a87",
   "metadata": {},
   "outputs": [
    {
     "name": "stdout",
     "output_type": "stream",
     "text": [
      "Accuracy: 0.26707752947857166 \n"
     ]
    },
    {
     "name": "stderr",
     "output_type": "stream",
     "text": [
      "/Users/avijames/anaconda3/lib/python3.8/site-packages/sklearn/linear_model/_logistic.py:763: ConvergenceWarning: lbfgs failed to converge (status=1):\n",
      "STOP: TOTAL NO. of ITERATIONS REACHED LIMIT.\n",
      "\n",
      "Increase the number of iterations (max_iter) or scale the data as shown in:\n",
      "    https://scikit-learn.org/stable/modules/preprocessing.html\n",
      "Please also refer to the documentation for alternative solver options:\n",
      "    https://scikit-learn.org/stable/modules/linear_model.html#logistic-regression\n",
      "  n_iter_i = _check_optimize_result(\n"
     ]
    }
   ],
   "source": [
    "logreg =LogisticRegression(random_state=42, solver='lbfgs', multi_class='multinomial', max_iter=400)\n",
    "\n",
    "logreg.fit(X_train, y_train)\n",
    "y_pred = logreg.predict(X_test)\n",
    "\n",
    "\n",
    "acc_logreg = accuracy_score(y_pred, y_test)\n",
    "print('Accuracy: {} '.format(acc_logreg))"
   ]
  },
  {
   "cell_type": "markdown",
   "id": "523d9405",
   "metadata": {},
   "source": [
    "#### Dummy Variables LogReg"
   ]
  },
  {
   "cell_type": "code",
   "execution_count": 80,
   "id": "bf27185a",
   "metadata": {},
   "outputs": [],
   "source": [
    "columns =['TRAFFIC_CONTROL_DEVICE',\n",
    "       'ROADWAY_SURFACE_COND','DEVICE_CONDITION', 'FIRST_CRASH_TYPE','DRIVER_VISION','PHYSICAL_CONDITION',]\n",
    "\n",
    "\n",
    "df_new = df[columns]\n",
    "new_df = df_new\n",
    "\n",
    "# getting dummies\n",
    "dummy_df=pd.get_dummies(new_df, columns= ['TRAFFIC_CONTROL_DEVICE','ROADWAY_SURFACE_COND','DEVICE_CONDITION', 'FIRST_CRASH_TYPE','DRIVER_VISION','PHYSICAL_CONDITION'], drop_first=True)"
   ]
  },
  {
   "cell_type": "code",
   "execution_count": 85,
   "id": "b482899c",
   "metadata": {},
   "outputs": [],
   "source": [
    "X = dummy_df\n",
    "y = df['PRIM_CONTRIBUTORY_CAUSE']\n",
    "X_train, X_test, y_train, y_test = train_test_split(X, y, test_size=0.25, random_state=42, stratify=y)"
   ]
  },
  {
   "cell_type": "code",
   "execution_count": 86,
   "id": "7631f8ef",
   "metadata": {},
   "outputs": [],
   "source": [
    "def multiclass_roc_auc_score(y_test, y_pred, average=\"micro\"):\n",
    "    # binarizing my features\n",
    "    lb = LabelBinarizer()\n",
    "    lb.fit(y_test)\n",
    "    y_test = lb.transform(y_test)\n",
    "    y_pred = lb.transform(y_pred)\n",
    "    return roc_auc_score(y_test, y_pred, average=average)"
   ]
  },
  {
   "cell_type": "code",
   "execution_count": 87,
   "id": "d5a9c072",
   "metadata": {},
   "outputs": [
    {
     "name": "stderr",
     "output_type": "stream",
     "text": [
      "/Users/avijames/anaconda3/lib/python3.8/site-packages/sklearn/linear_model/_logistic.py:763: ConvergenceWarning: lbfgs failed to converge (status=1):\n",
      "STOP: TOTAL NO. of ITERATIONS REACHED LIMIT.\n",
      "\n",
      "Increase the number of iterations (max_iter) or scale the data as shown in:\n",
      "    https://scikit-learn.org/stable/modules/preprocessing.html\n",
      "Please also refer to the documentation for alternative solver options:\n",
      "    https://scikit-learn.org/stable/modules/linear_model.html#logistic-regression\n",
      "  n_iter_i = _check_optimize_result(\n"
     ]
    },
    {
     "name": "stdout",
     "output_type": "stream",
     "text": [
      "Accuracy: 0.5550489360991415 \n",
      "AUC: 0.755276914854528\n"
     ]
    }
   ],
   "source": [
    "logreg_dummy =LogisticRegression(random_state=42, solver='lbfgs', multi_class='multinomial', max_iter=400)\n",
    "\n",
    "logreg_dummy.fit(X_train, y_train)\n",
    "y_pred = logreg_dummy.predict(X_test)\n",
    "\n",
    "\n",
    "\n",
    "acc_logreg = accuracy_score(y_pred, y_test)\n",
    "print('Accuracy: {} '.format(acc_logreg))\n",
    "print('AUC: {}'.format(multiclass_roc_auc_score(y_test, y_pred)))"
   ]
  },
  {
   "cell_type": "code",
   "execution_count": 88,
   "id": "2d6fb0e7",
   "metadata": {},
   "outputs": [
    {
     "data": {
      "text/plain": [
       "array([[ 1517,     0,   592,     0,   302,  1622,   122,    82,    18,\n",
       "            0,   116],\n",
       "       [   67,     4,   545,     0,   678,   154,    98,    40,    42,\n",
       "            0,    35],\n",
       "       [  272,     6,  4863,     0,  1308,  3456,   860,    98,   131,\n",
       "            0,   200],\n",
       "       [   37,     0,   375,     0,   167,    37,    43,     9,    22,\n",
       "            0,    41],\n",
       "       [  186,     3,  1239,     0, 12321,  1073,   535,   183,    36,\n",
       "            0,   199],\n",
       "       [  608,     0,  1025,     0,   380,  7492,  2232,    29,    69,\n",
       "            0,    51],\n",
       "       [  103,     0,  1622,     0,   375,  1236,  4814,    81,    27,\n",
       "            0,    60],\n",
       "       [   86,     1,   612,     0,   273,   152,   167,  1227,    21,\n",
       "            0,    33],\n",
       "       [   38,     1,   430,     0,   108,   395,   102,    10,   333,\n",
       "            0,    89],\n",
       "       [    0,     0,    10,     0,     6,     9,    15,     2,     2,\n",
       "            0,     1],\n",
       "       [   77,     0,   183,     0,   528,   236,    83,    14,    30,\n",
       "            0,   662]])"
      ]
     },
     "execution_count": 88,
     "metadata": {},
     "output_type": "execute_result"
    }
   ],
   "source": [
    "confusion_matrix(y_test, y_pred)"
   ]
  },
  {
   "cell_type": "markdown",
   "id": "12bea43b",
   "metadata": {},
   "source": [
    "### Cross Validate with a ShuffleSplit LogReg"
   ]
  },
  {
   "cell_type": "code",
   "execution_count": 36,
   "id": "f6645e3e",
   "metadata": {},
   "outputs": [
    {
     "name": "stderr",
     "output_type": "stream",
     "text": [
      "/Users/avijames/anaconda3/lib/python3.8/site-packages/sklearn/linear_model/_logistic.py:763: ConvergenceWarning: lbfgs failed to converge (status=1):\n",
      "STOP: TOTAL NO. of ITERATIONS REACHED LIMIT.\n",
      "\n",
      "Increase the number of iterations (max_iter) or scale the data as shown in:\n",
      "    https://scikit-learn.org/stable/modules/preprocessing.html\n",
      "Please also refer to the documentation for alternative solver options:\n",
      "    https://scikit-learn.org/stable/modules/linear_model.html#logistic-regression\n",
      "  n_iter_i = _check_optimize_result(\n",
      "/Users/avijames/anaconda3/lib/python3.8/site-packages/sklearn/linear_model/_logistic.py:763: ConvergenceWarning: lbfgs failed to converge (status=1):\n",
      "STOP: TOTAL NO. of ITERATIONS REACHED LIMIT.\n",
      "\n",
      "Increase the number of iterations (max_iter) or scale the data as shown in:\n",
      "    https://scikit-learn.org/stable/modules/preprocessing.html\n",
      "Please also refer to the documentation for alternative solver options:\n",
      "    https://scikit-learn.org/stable/modules/linear_model.html#logistic-regression\n",
      "  n_iter_i = _check_optimize_result(\n",
      "/Users/avijames/anaconda3/lib/python3.8/site-packages/sklearn/linear_model/_logistic.py:763: ConvergenceWarning: lbfgs failed to converge (status=1):\n",
      "STOP: TOTAL NO. of ITERATIONS REACHED LIMIT.\n",
      "\n",
      "Increase the number of iterations (max_iter) or scale the data as shown in:\n",
      "    https://scikit-learn.org/stable/modules/preprocessing.html\n",
      "Please also refer to the documentation for alternative solver options:\n",
      "    https://scikit-learn.org/stable/modules/linear_model.html#logistic-regression\n",
      "  n_iter_i = _check_optimize_result(\n",
      "/Users/avijames/anaconda3/lib/python3.8/site-packages/sklearn/linear_model/_logistic.py:763: ConvergenceWarning: lbfgs failed to converge (status=1):\n",
      "STOP: TOTAL NO. of ITERATIONS REACHED LIMIT.\n",
      "\n",
      "Increase the number of iterations (max_iter) or scale the data as shown in:\n",
      "    https://scikit-learn.org/stable/modules/preprocessing.html\n",
      "Please also refer to the documentation for alternative solver options:\n",
      "    https://scikit-learn.org/stable/modules/linear_model.html#logistic-regression\n",
      "  n_iter_i = _check_optimize_result(\n",
      "/Users/avijames/anaconda3/lib/python3.8/site-packages/sklearn/linear_model/_logistic.py:763: ConvergenceWarning: lbfgs failed to converge (status=1):\n",
      "STOP: TOTAL NO. of ITERATIONS REACHED LIMIT.\n",
      "\n",
      "Increase the number of iterations (max_iter) or scale the data as shown in:\n",
      "    https://scikit-learn.org/stable/modules/preprocessing.html\n",
      "Please also refer to the documentation for alternative solver options:\n",
      "    https://scikit-learn.org/stable/modules/linear_model.html#logistic-regression\n",
      "  n_iter_i = _check_optimize_result(\n"
     ]
    },
    {
     "data": {
      "text/plain": [
       "0.5570154073125584"
      ]
     },
     "execution_count": 36,
     "metadata": {},
     "output_type": "execute_result"
    }
   ],
   "source": [
    "n_samples = X.shape[0]\n",
    "cv = ShuffleSplit(n_splits=5, test_size=0.3, random_state=0)\n",
    "mean_cross_score = np.mean(cross_val_score(logreg_dummy, X, y, cv=cv))\n",
    "mean_cross_score"
   ]
  },
  {
   "cell_type": "markdown",
   "id": "9818db1f",
   "metadata": {},
   "source": [
    "#### Concat Dummys and Int for LOG"
   ]
  },
  {
   "cell_type": "code",
   "execution_count": 94,
   "id": "87645874",
   "metadata": {},
   "outputs": [],
   "source": [
    "concat_df = pd.concat([dummy_df,log_int_df],axis=1)"
   ]
  },
  {
   "cell_type": "code",
   "execution_count": 95,
   "id": "a0eecb16",
   "metadata": {},
   "outputs": [],
   "source": [
    "X = concat_df\n",
    "y = df['PRIM_CONTRIBUTORY_CAUSE']\n",
    "X_train, X_test, y_train, y_test = train_test_split(X, y, test_size=0.25, random_state=42, stratify=y)"
   ]
  },
  {
   "cell_type": "code",
   "execution_count": 96,
   "id": "c5f44a77",
   "metadata": {},
   "outputs": [
    {
     "name": "stderr",
     "output_type": "stream",
     "text": [
      "/Users/avijames/anaconda3/lib/python3.8/site-packages/sklearn/linear_model/_logistic.py:763: ConvergenceWarning: lbfgs failed to converge (status=1):\n",
      "STOP: TOTAL NO. of ITERATIONS REACHED LIMIT.\n",
      "\n",
      "Increase the number of iterations (max_iter) or scale the data as shown in:\n",
      "    https://scikit-learn.org/stable/modules/preprocessing.html\n",
      "Please also refer to the documentation for alternative solver options:\n",
      "    https://scikit-learn.org/stable/modules/linear_model.html#logistic-regression\n",
      "  n_iter_i = _check_optimize_result(\n"
     ]
    },
    {
     "name": "stdout",
     "output_type": "stream",
     "text": [
      "Accuracy: 0.48020843771921035 \n",
      "AUC: 0.7141146407455659\n"
     ]
    }
   ],
   "source": [
    "logreg =LogisticRegression(random_state=42, solver='lbfgs', multi_class='multinomial', max_iter=400)\n",
    "\n",
    "logreg.fit(X_train, y_train)\n",
    "y_pred = logreg.predict(X_test)\n",
    "\n",
    "\n",
    "acc_logreg = accuracy_score(y_pred, y_test)\n",
    "print('Accuracy: {} '.format(acc_logreg))\n",
    "print('AUC: {}'.format(multiclass_roc_auc_score(y_test, y_pred)))"
   ]
  },
  {
   "cell_type": "markdown",
   "id": "587ec063",
   "metadata": {},
   "source": [
    "## KNN Model"
   ]
  },
  {
   "cell_type": "code",
   "execution_count": 98,
   "id": "9eb377fb",
   "metadata": {},
   "outputs": [],
   "source": [
    "from sklearn.neighbors import KNeighborsClassifier"
   ]
  },
  {
   "cell_type": "markdown",
   "id": "494dc7d7",
   "metadata": {},
   "source": [
    "#### Only using initial 'int64' DataTypes"
   ]
  },
  {
   "cell_type": "code",
   "execution_count": 99,
   "id": "d7dda6f1",
   "metadata": {},
   "outputs": [],
   "source": [
    "KNN_int_df= df.select_dtypes('int64')\n",
    "X = KNN_int_df\n",
    "y = df['PRIM_CONTRIBUTORY_CAUSE']\n",
    "X_train, X_test, y_train, y_test = train_test_split(X, y, test_size=0.25, random_state=42, stratify=y)"
   ]
  },
  {
   "cell_type": "code",
   "execution_count": 100,
   "id": "35e29fb7",
   "metadata": {},
   "outputs": [],
   "source": [
    "knn = KNeighborsClassifier(n_neighbors=1)"
   ]
  },
  {
   "cell_type": "code",
   "execution_count": 101,
   "id": "19679797",
   "metadata": {},
   "outputs": [
    {
     "data": {
      "text/plain": [
       "KNeighborsClassifier(n_neighbors=1)"
      ]
     },
     "execution_count": 101,
     "metadata": {},
     "output_type": "execute_result"
    }
   ],
   "source": [
    "knn.fit(X_train,y_train)"
   ]
  },
  {
   "cell_type": "code",
   "execution_count": 104,
   "id": "dab0bb91",
   "metadata": {},
   "outputs": [
    {
     "name": "stdout",
     "output_type": "stream",
     "text": [
      "Accuracy: 0.19419113471623745 \n",
      "AUC: 0.5568051240939306\n"
     ]
    }
   ],
   "source": [
    "y_pred = knn.predict(X_test)\n",
    "acc_knn1 = accuracy_score(pred, y_test)\n",
    "print('Accuracy: {} '.format(acc_knn1))\n",
    "print('AUC: {}'.format(multiclass_roc_auc_score(y_test, y_pred)))"
   ]
  },
  {
   "cell_type": "code",
   "execution_count": 103,
   "id": "65ebbe26",
   "metadata": {},
   "outputs": [
    {
     "data": {
      "text/plain": [
       "array([0.19588031, 0.19541254, 0.19159893, 0.19688787, 0.19193297])"
      ]
     },
     "execution_count": 103,
     "metadata": {},
     "output_type": "execute_result"
    }
   ],
   "source": [
    "cross_val_score(knn, X_train, y_train, cv=5)"
   ]
  },
  {
   "cell_type": "code",
   "execution_count": 77,
   "id": "a0cb3deb",
   "metadata": {},
   "outputs": [
    {
     "name": "stdout",
     "output_type": "stream",
     "text": [
      "[[ 399  128  768   45 1120  847  566  278   83    4  133]\n",
      " [ 131   55  302   28  440  300  237  102   30    1   37]\n",
      " [ 766  299 2586  125 2668 2128 1499  484  275    5  359]\n",
      " [  59   19  142   14  185  138   89   47   12    0   26]\n",
      " [1109  396 2617  169 4404 3220 2325  694  329   14  498]\n",
      " [ 806  265 2161  124 3256 2483 1682  484  266    6  353]\n",
      " [ 561  210 1414  104 2324 1668 1273  330  197    4  233]\n",
      " [ 232   78  452   49  648  411  366  199   52    3   82]\n",
      " [ 115   57  269   15  399  292  204   68   31    0   56]\n",
      " [   3    1    8    0   13    7    6    6    0    0    1]\n",
      " [ 128   35  296   17  494  284  234   85   54    3  183]]\n"
     ]
    }
   ],
   "source": [
    "print(confusion_matrix(y_test,pred))"
   ]
  },
  {
   "cell_type": "markdown",
   "id": "0b3cec31",
   "metadata": {},
   "source": [
    "#### Chooing a K Value with Elbow Method"
   ]
  },
  {
   "cell_type": "code",
   "execution_count": 78,
   "id": "a324236f",
   "metadata": {},
   "outputs": [],
   "source": [
    "error_rate = []\n",
    "\n",
    "for i in range(1,40):\n",
    "    \n",
    "    knn = KNeighborsClassifier(n_neighbors=i)\n",
    "    knn.fit(X_train,y_train)\n",
    "    pred_i = knn.predict(X_test)\n",
    "    error_rate.append(np.mean(pred_i != y_test))"
   ]
  },
  {
   "cell_type": "code",
   "execution_count": 79,
   "id": "89bdd482",
   "metadata": {},
   "outputs": [
    {
     "data": {
      "text/plain": [
       "Text(0, 0.5, 'Error Rate')"
      ]
     },
     "execution_count": 79,
     "metadata": {},
     "output_type": "execute_result"
    },
    {
     "data": {
      "image/png": "[encoded data removed]",
      "text/plain": [
       "<Figure size 720x432 with 1 Axes>"
      ]
     },
     "metadata": {
      "needs_background": "light"
     },
     "output_type": "display_data"
    }
   ],
   "source": [
    "plt.figure(figsize=(10,6))\n",
    "plt.plot(range(1,40),error_rate,color='blue', linestyle='dashed', marker='o',\n",
    "         markerfacecolor='red', markersize=10)\n",
    "plt.title('Error Rate vs. K Value')\n",
    "plt.xlabel('K')\n",
    "plt.ylabel('Error Rate')"
   ]
  },
  {
   "cell_type": "code",
   "execution_count": 105,
   "id": "0533f3cf",
   "metadata": {},
   "outputs": [
    {
     "name": "stdout",
     "output_type": "stream",
     "text": [
      "Accuracy: 0.19419113471623745 \n",
      "AUC: 0.5962955539967265\n"
     ]
    }
   ],
   "source": [
    "# NOW WITH K=40\n",
    "knn = KNeighborsClassifier(n_neighbors=40)\n",
    "\n",
    "knn.fit(X_train,y_train)\n",
    "y_pred = knn.predict(X_test)\n",
    "\n",
    "acc_knn40 = accuracy_score(pred, y_test)\n",
    "print('Accuracy: {} '.format(acc_knn40))\n",
    "print('AUC: {}'.format(multiclass_roc_auc_score(y_test, y_pred)))"
   ]
  },
  {
   "cell_type": "markdown",
   "id": "d15ddfe6",
   "metadata": {},
   "source": [
    "#### Only using initial 'Float' DataTypes"
   ]
  },
  {
   "cell_type": "code",
   "execution_count": 106,
   "id": "d3b4be9b",
   "metadata": {},
   "outputs": [],
   "source": [
    "KNN_float_df= df.select_dtypes('float64')\n",
    "X = KNN_float_df\n",
    "y = df['PRIM_CONTRIBUTORY_CAUSE']\n",
    "X_train, X_test, y_train, y_test = train_test_split(X, y, test_size=0.25, random_state=42, stratify=y)"
   ]
  },
  {
   "cell_type": "code",
   "execution_count": 107,
   "id": "f6a05891",
   "metadata": {},
   "outputs": [
    {
     "data": {
      "text/plain": [
       "KNeighborsClassifier(n_neighbors=40)"
      ]
     },
     "execution_count": 107,
     "metadata": {},
     "output_type": "execute_result"
    }
   ],
   "source": [
    "knn = KNeighborsClassifier(n_neighbors=40)\n",
    "knn.fit(X_train,y_train)"
   ]
  },
  {
   "cell_type": "code",
   "execution_count": 108,
   "id": "1edfdf0b",
   "metadata": {},
   "outputs": [],
   "source": [
    "y_pred = knn.predict(X_test)"
   ]
  },
  {
   "cell_type": "code",
   "execution_count": 110,
   "id": "e61255ff",
   "metadata": {},
   "outputs": [
    {
     "name": "stdout",
     "output_type": "stream",
     "text": [
      "Accuracy: 0.19419113471623745 \n",
      "AUC: 0.5909033971339813\n"
     ]
    }
   ],
   "source": [
    "acc_knn_float = accuracy_score(pred, y_test)\n",
    "print('Accuracy: {} '.format(acc_knn_float))\n",
    "print('AUC: {}'.format(multiclass_roc_auc_score(y_test, y_pred)))"
   ]
  },
  {
   "cell_type": "markdown",
   "id": "afc213cb",
   "metadata": {},
   "source": [
    "#### Dummy Variables KNN"
   ]
  },
  {
   "cell_type": "code",
   "execution_count": 111,
   "id": "d6d39cf9",
   "metadata": {},
   "outputs": [],
   "source": [
    "X = dummy_df\n",
    "y = df['PRIM_CONTRIBUTORY_CAUSE']\n",
    "X_train, X_test, y_train, y_test = train_test_split(X, y, test_size=0.25, random_state=42, stratify=y)"
   ]
  },
  {
   "cell_type": "code",
   "execution_count": 112,
   "id": "e232ff02",
   "metadata": {},
   "outputs": [
    {
     "data": {
      "text/plain": [
       "KNeighborsClassifier(n_neighbors=40)"
      ]
     },
     "execution_count": 112,
     "metadata": {},
     "output_type": "execute_result"
    }
   ],
   "source": [
    "knn_dummy = KNeighborsClassifier(n_neighbors=40)\n",
    "knn_dummy.fit(X_train,y_train)"
   ]
  },
  {
   "cell_type": "code",
   "execution_count": 113,
   "id": "194f97f6",
   "metadata": {},
   "outputs": [
    {
     "name": "stdout",
     "output_type": "stream",
     "text": [
      "Accuracy: 0.19419113471623745 \n",
      "AUC: 0.751630089855363\n"
     ]
    }
   ],
   "source": [
    "y_pred = knn_dummy.predict(X_test)\n",
    "acc_dummy_knn = accuracy_score(pred, y_test)\n",
    "print('Accuracy: {} '.format(acc_dummy_knn))\n",
    "print('AUC: {}'.format(multiclass_roc_auc_score(y_test, y_pred)))"
   ]
  },
  {
   "cell_type": "code",
   "execution_count": 59,
   "id": "05c69557",
   "metadata": {},
   "outputs": [
    {
     "data": {
      "text/plain": [
       "array([0.54719555, 0.54579111, 0.54247857, 0.53913818, 0.54336934])"
      ]
     },
     "execution_count": 59,
     "metadata": {},
     "output_type": "execute_result"
    }
   ],
   "source": [
    "cross_val_score(knn, X_train, y_train, cv=5)"
   ]
  },
  {
   "cell_type": "markdown",
   "id": "a5f9b3b3",
   "metadata": {},
   "source": [
    "#### Concat dummy and Int KNN"
   ]
  },
  {
   "cell_type": "code",
   "execution_count": 114,
   "id": "647d80bc",
   "metadata": {},
   "outputs": [],
   "source": [
    "concat_df = pd.concat([dummy_df,KNN_int_df],axis=1)"
   ]
  },
  {
   "cell_type": "code",
   "execution_count": 115,
   "id": "f24581d3",
   "metadata": {},
   "outputs": [],
   "source": [
    "X = concat_df\n",
    "y = df['PRIM_CONTRIBUTORY_CAUSE']\n",
    "X_train, X_test, y_train, y_test = train_test_split(X, y, test_size=0.25, random_state=42, stratify=y)"
   ]
  },
  {
   "cell_type": "code",
   "execution_count": 116,
   "id": "e4687d03",
   "metadata": {},
   "outputs": [
    {
     "name": "stdout",
     "output_type": "stream",
     "text": [
      "Accuracy: 0.19419113471623745 \n",
      "AUC: 0.6999682666933894\n"
     ]
    }
   ],
   "source": [
    "knn = KNeighborsClassifier(n_neighbors=40)\n",
    "knn.fit(X_train,y_train)\n",
    "y_pred = knn.predict(X_test)\n",
    "acc_knn=accuracy_score(pred, y_test)\n",
    "print('Accuracy: {} '.format(acc_knn))\n",
    "print('AUC: {}'.format(multiclass_roc_auc_score(y_test, y_pred)))"
   ]
  },
  {
   "cell_type": "markdown",
   "id": "2a838209",
   "metadata": {},
   "source": [
    "#### Decision Tree"
   ]
  },
  {
   "cell_type": "code",
   "execution_count": 117,
   "id": "dbfedde5",
   "metadata": {},
   "outputs": [],
   "source": [
    "columns =['TRAFFIC_CONTROL_DEVICE',\n",
    "       'ROADWAY_SURFACE_COND','DEVICE_CONDITION', 'FIRST_CRASH_TYPE','DRIVER_VISION','PHYSICAL_CONDITION',]\n",
    "\n",
    "\n",
    "df_new = df[columns]\n",
    "new_df = df_new\n",
    "\n",
    "# getting dummies\n",
    "dummy_df=pd.get_dummies(new_df, columns= ['TRAFFIC_CONTROL_DEVICE','ROADWAY_SURFACE_COND','DEVICE_CONDITION', 'FIRST_CRASH_TYPE','DRIVER_VISION','PHYSICAL_CONDITION'], drop_first=True)"
   ]
  },
  {
   "cell_type": "code",
   "execution_count": 118,
   "id": "7f758097",
   "metadata": {},
   "outputs": [],
   "source": [
    "X = dummy_df\n",
    "y = df['PRIM_CONTRIBUTORY_CAUSE']\n",
    "X_train, X_test, y_train, y_test = train_test_split(X, y, test_size=0.25, random_state=42, stratify=y)"
   ]
  },
  {
   "cell_type": "code",
   "execution_count": 119,
   "id": "b57025ba",
   "metadata": {},
   "outputs": [
    {
     "name": "stdout",
     "output_type": "stream",
     "text": [
      "Accuracy: 0.550622974913986 \n",
      "AUC: 0.7528426362026924\n"
     ]
    }
   ],
   "source": [
    "dtree = DecisionTreeClassifier()\n",
    "dtree.fit(X_train,y_train)\n",
    "predictions = dtree.predict(X_test)\n",
    "acc_dtree=accuracy_score(predictions, y_test)\n",
    "print('Accuracy: {} '.format(acc_dtree))\n",
    "print('AUC: {}'.format(multiclass_roc_auc_score(y_test, predictions)))"
   ]
  },
  {
   "cell_type": "markdown",
   "id": "820eaea4",
   "metadata": {},
   "source": [
    "#### Decision Tree Grid Search "
   ]
  },
  {
   "cell_type": "code",
   "execution_count": 12,
   "id": "715d328b",
   "metadata": {},
   "outputs": [
    {
     "name": "stderr",
     "output_type": "stream",
     "text": [
      "/Users/avijames/anaconda3/lib/python3.8/site-packages/sklearn/model_selection/_validation.py:610: FitFailedWarning: Estimator fit failed. The score on this train-test partition for these parameters will be set to nan. Details: \n",
      "Traceback (most recent call last):\n",
      "  File \"/Users/avijames/anaconda3/lib/python3.8/site-packages/sklearn/model_selection/_validation.py\", line 593, in _fit_and_score\n",
      "    estimator.fit(X_train, y_train, **fit_params)\n",
      "  File \"/Users/avijames/anaconda3/lib/python3.8/site-packages/sklearn/tree/_classes.py\", line 898, in fit\n",
      "    super().fit(\n",
      "  File \"/Users/avijames/anaconda3/lib/python3.8/site-packages/sklearn/tree/_classes.py\", line 237, in fit\n",
      "    raise ValueError(\"min_samples_split must be an integer \"\n",
      "ValueError: min_samples_split must be an integer greater than 1 or a float in (0.0, 1.0]; got the integer 1\n",
      "\n",
      "  warnings.warn(\"Estimator fit failed. The score on this train-test\"\n",
      "/Users/avijames/anaconda3/lib/python3.8/site-packages/sklearn/model_selection/_validation.py:610: FitFailedWarning: Estimator fit failed. The score on this train-test partition for these parameters will be set to nan. Details: \n",
      "Traceback (most recent call last):\n",
      "  File \"/Users/avijames/anaconda3/lib/python3.8/site-packages/sklearn/model_selection/_validation.py\", line 593, in _fit_and_score\n",
      "    estimator.fit(X_train, y_train, **fit_params)\n",
      "  File \"/Users/avijames/anaconda3/lib/python3.8/site-packages/sklearn/tree/_classes.py\", line 898, in fit\n",
      "    super().fit(\n",
      "  File \"/Users/avijames/anaconda3/lib/python3.8/site-packages/sklearn/tree/_classes.py\", line 237, in fit\n",
      "    raise ValueError(\"min_samples_split must be an integer \"\n",
      "ValueError: min_samples_split must be an integer greater than 1 or a float in (0.0, 1.0]; got the integer 1\n",
      "\n",
      "  warnings.warn(\"Estimator fit failed. The score on this train-test\"\n",
      "/Users/avijames/anaconda3/lib/python3.8/site-packages/sklearn/model_selection/_validation.py:610: FitFailedWarning: Estimator fit failed. The score on this train-test partition for these parameters will be set to nan. Details: \n",
      "Traceback (most recent call last):\n",
      "  File \"/Users/avijames/anaconda3/lib/python3.8/site-packages/sklearn/model_selection/_validation.py\", line 593, in _fit_and_score\n",
      "    estimator.fit(X_train, y_train, **fit_params)\n",
      "  File \"/Users/avijames/anaconda3/lib/python3.8/site-packages/sklearn/tree/_classes.py\", line 898, in fit\n",
      "    super().fit(\n",
      "  File \"/Users/avijames/anaconda3/lib/python3.8/site-packages/sklearn/tree/_classes.py\", line 237, in fit\n",
      "    raise ValueError(\"min_samples_split must be an integer \"\n",
      "ValueError: min_samples_split must be an integer greater than 1 or a float in (0.0, 1.0]; got the integer 1\n",
      "\n",
      "  warnings.warn(\"Estimator fit failed. The score on this train-test\"\n",
      "/Users/avijames/anaconda3/lib/python3.8/site-packages/sklearn/model_selection/_validation.py:610: FitFailedWarning: Estimator fit failed. The score on this train-test partition for these parameters will be set to nan. Details: \n",
      "Traceback (most recent call last):\n",
      "  File \"/Users/avijames/anaconda3/lib/python3.8/site-packages/sklearn/model_selection/_validation.py\", line 593, in _fit_and_score\n",
      "    estimator.fit(X_train, y_train, **fit_params)\n",
      "  File \"/Users/avijames/anaconda3/lib/python3.8/site-packages/sklearn/tree/_classes.py\", line 898, in fit\n",
      "    super().fit(\n",
      "  File \"/Users/avijames/anaconda3/lib/python3.8/site-packages/sklearn/tree/_classes.py\", line 237, in fit\n",
      "    raise ValueError(\"min_samples_split must be an integer \"\n",
      "ValueError: min_samples_split must be an integer greater than 1 or a float in (0.0, 1.0]; got the integer 1\n",
      "\n",
      "  warnings.warn(\"Estimator fit failed. The score on this train-test\"\n",
      "/Users/avijames/anaconda3/lib/python3.8/site-packages/sklearn/model_selection/_validation.py:610: FitFailedWarning: Estimator fit failed. The score on this train-test partition for these parameters will be set to nan. Details: \n",
      "Traceback (most recent call last):\n",
      "  File \"/Users/avijames/anaconda3/lib/python3.8/site-packages/sklearn/model_selection/_validation.py\", line 593, in _fit_and_score\n",
      "    estimator.fit(X_train, y_train, **fit_params)\n",
      "  File \"/Users/avijames/anaconda3/lib/python3.8/site-packages/sklearn/tree/_classes.py\", line 898, in fit\n",
      "    super().fit(\n",
      "  File \"/Users/avijames/anaconda3/lib/python3.8/site-packages/sklearn/tree/_classes.py\", line 237, in fit\n",
      "    raise ValueError(\"min_samples_split must be an integer \"\n",
      "ValueError: min_samples_split must be an integer greater than 1 or a float in (0.0, 1.0]; got the integer 1\n",
      "\n",
      "  warnings.warn(\"Estimator fit failed. The score on this train-test\"\n",
      "/Users/avijames/anaconda3/lib/python3.8/site-packages/sklearn/model_selection/_validation.py:610: FitFailedWarning: Estimator fit failed. The score on this train-test partition for these parameters will be set to nan. Details: \n",
      "Traceback (most recent call last):\n",
      "  File \"/Users/avijames/anaconda3/lib/python3.8/site-packages/sklearn/model_selection/_validation.py\", line 593, in _fit_and_score\n",
      "    estimator.fit(X_train, y_train, **fit_params)\n",
      "  File \"/Users/avijames/anaconda3/lib/python3.8/site-packages/sklearn/tree/_classes.py\", line 898, in fit\n",
      "    super().fit(\n",
      "  File \"/Users/avijames/anaconda3/lib/python3.8/site-packages/sklearn/tree/_classes.py\", line 237, in fit\n",
      "    raise ValueError(\"min_samples_split must be an integer \"\n",
      "ValueError: min_samples_split must be an integer greater than 1 or a float in (0.0, 1.0]; got the integer 1\n",
      "\n",
      "  warnings.warn(\"Estimator fit failed. The score on this train-test\"\n",
      "/Users/avijames/anaconda3/lib/python3.8/site-packages/sklearn/model_selection/_validation.py:610: FitFailedWarning: Estimator fit failed. The score on this train-test partition for these parameters will be set to nan. Details: \n",
      "Traceback (most recent call last):\n",
      "  File \"/Users/avijames/anaconda3/lib/python3.8/site-packages/sklearn/model_selection/_validation.py\", line 593, in _fit_and_score\n",
      "    estimator.fit(X_train, y_train, **fit_params)\n",
      "  File \"/Users/avijames/anaconda3/lib/python3.8/site-packages/sklearn/tree/_classes.py\", line 898, in fit\n",
      "    super().fit(\n",
      "  File \"/Users/avijames/anaconda3/lib/python3.8/site-packages/sklearn/tree/_classes.py\", line 237, in fit\n",
      "    raise ValueError(\"min_samples_split must be an integer \"\n",
      "ValueError: min_samples_split must be an integer greater than 1 or a float in (0.0, 1.0]; got the integer 1\n",
      "\n",
      "  warnings.warn(\"Estimator fit failed. The score on this train-test\"\n",
      "/Users/avijames/anaconda3/lib/python3.8/site-packages/sklearn/model_selection/_validation.py:610: FitFailedWarning: Estimator fit failed. The score on this train-test partition for these parameters will be set to nan. Details: \n",
      "Traceback (most recent call last):\n",
      "  File \"/Users/avijames/anaconda3/lib/python3.8/site-packages/sklearn/model_selection/_validation.py\", line 593, in _fit_and_score\n",
      "    estimator.fit(X_train, y_train, **fit_params)\n",
      "  File \"/Users/avijames/anaconda3/lib/python3.8/site-packages/sklearn/tree/_classes.py\", line 898, in fit\n",
      "    super().fit(\n",
      "  File \"/Users/avijames/anaconda3/lib/python3.8/site-packages/sklearn/tree/_classes.py\", line 237, in fit\n",
      "    raise ValueError(\"min_samples_split must be an integer \"\n",
      "ValueError: min_samples_split must be an integer greater than 1 or a float in (0.0, 1.0]; got the integer 1\n",
      "\n",
      "  warnings.warn(\"Estimator fit failed. The score on this train-test\"\n",
      "/Users/avijames/anaconda3/lib/python3.8/site-packages/sklearn/model_selection/_validation.py:610: FitFailedWarning: Estimator fit failed. The score on this train-test partition for these parameters will be set to nan. Details: \n",
      "Traceback (most recent call last):\n",
      "  File \"/Users/avijames/anaconda3/lib/python3.8/site-packages/sklearn/model_selection/_validation.py\", line 593, in _fit_and_score\n",
      "    estimator.fit(X_train, y_train, **fit_params)\n",
      "  File \"/Users/avijames/anaconda3/lib/python3.8/site-packages/sklearn/tree/_classes.py\", line 898, in fit\n",
      "    super().fit(\n",
      "  File \"/Users/avijames/anaconda3/lib/python3.8/site-packages/sklearn/tree/_classes.py\", line 237, in fit\n",
      "    raise ValueError(\"min_samples_split must be an integer \"\n",
      "ValueError: min_samples_split must be an integer greater than 1 or a float in (0.0, 1.0]; got the integer 1\n",
      "\n",
      "  warnings.warn(\"Estimator fit failed. The score on this train-test\"\n"
     ]
    },
    {
     "name": "stderr",
     "output_type": "stream",
     "text": [
      "/Users/avijames/anaconda3/lib/python3.8/site-packages/sklearn/model_selection/_validation.py:610: FitFailedWarning: Estimator fit failed. The score on this train-test partition for these parameters will be set to nan. Details: \n",
      "Traceback (most recent call last):\n",
      "  File \"/Users/avijames/anaconda3/lib/python3.8/site-packages/sklearn/model_selection/_validation.py\", line 593, in _fit_and_score\n",
      "    estimator.fit(X_train, y_train, **fit_params)\n",
      "  File \"/Users/avijames/anaconda3/lib/python3.8/site-packages/sklearn/tree/_classes.py\", line 898, in fit\n",
      "    super().fit(\n",
      "  File \"/Users/avijames/anaconda3/lib/python3.8/site-packages/sklearn/tree/_classes.py\", line 237, in fit\n",
      "    raise ValueError(\"min_samples_split must be an integer \"\n",
      "ValueError: min_samples_split must be an integer greater than 1 or a float in (0.0, 1.0]; got the integer 1\n",
      "\n",
      "  warnings.warn(\"Estimator fit failed. The score on this train-test\"\n",
      "/Users/avijames/anaconda3/lib/python3.8/site-packages/sklearn/model_selection/_validation.py:610: FitFailedWarning: Estimator fit failed. The score on this train-test partition for these parameters will be set to nan. Details: \n",
      "Traceback (most recent call last):\n",
      "  File \"/Users/avijames/anaconda3/lib/python3.8/site-packages/sklearn/model_selection/_validation.py\", line 593, in _fit_and_score\n",
      "    estimator.fit(X_train, y_train, **fit_params)\n",
      "  File \"/Users/avijames/anaconda3/lib/python3.8/site-packages/sklearn/tree/_classes.py\", line 898, in fit\n",
      "    super().fit(\n",
      "  File \"/Users/avijames/anaconda3/lib/python3.8/site-packages/sklearn/tree/_classes.py\", line 237, in fit\n",
      "    raise ValueError(\"min_samples_split must be an integer \"\n",
      "ValueError: min_samples_split must be an integer greater than 1 or a float in (0.0, 1.0]; got the integer 1\n",
      "\n",
      "  warnings.warn(\"Estimator fit failed. The score on this train-test\"\n",
      "/Users/avijames/anaconda3/lib/python3.8/site-packages/sklearn/model_selection/_validation.py:610: FitFailedWarning: Estimator fit failed. The score on this train-test partition for these parameters will be set to nan. Details: \n",
      "Traceback (most recent call last):\n",
      "  File \"/Users/avijames/anaconda3/lib/python3.8/site-packages/sklearn/model_selection/_validation.py\", line 593, in _fit_and_score\n",
      "    estimator.fit(X_train, y_train, **fit_params)\n",
      "  File \"/Users/avijames/anaconda3/lib/python3.8/site-packages/sklearn/tree/_classes.py\", line 898, in fit\n",
      "    super().fit(\n",
      "  File \"/Users/avijames/anaconda3/lib/python3.8/site-packages/sklearn/tree/_classes.py\", line 237, in fit\n",
      "    raise ValueError(\"min_samples_split must be an integer \"\n",
      "ValueError: min_samples_split must be an integer greater than 1 or a float in (0.0, 1.0]; got the integer 1\n",
      "\n",
      "  warnings.warn(\"Estimator fit failed. The score on this train-test\"\n",
      "/Users/avijames/anaconda3/lib/python3.8/site-packages/sklearn/model_selection/_validation.py:610: FitFailedWarning: Estimator fit failed. The score on this train-test partition for these parameters will be set to nan. Details: \n",
      "Traceback (most recent call last):\n",
      "  File \"/Users/avijames/anaconda3/lib/python3.8/site-packages/sklearn/model_selection/_validation.py\", line 593, in _fit_and_score\n",
      "    estimator.fit(X_train, y_train, **fit_params)\n",
      "  File \"/Users/avijames/anaconda3/lib/python3.8/site-packages/sklearn/tree/_classes.py\", line 898, in fit\n",
      "    super().fit(\n",
      "  File \"/Users/avijames/anaconda3/lib/python3.8/site-packages/sklearn/tree/_classes.py\", line 237, in fit\n",
      "    raise ValueError(\"min_samples_split must be an integer \"\n",
      "ValueError: min_samples_split must be an integer greater than 1 or a float in (0.0, 1.0]; got the integer 1\n",
      "\n",
      "  warnings.warn(\"Estimator fit failed. The score on this train-test\"\n",
      "/Users/avijames/anaconda3/lib/python3.8/site-packages/sklearn/model_selection/_validation.py:610: FitFailedWarning: Estimator fit failed. The score on this train-test partition for these parameters will be set to nan. Details: \n",
      "Traceback (most recent call last):\n",
      "  File \"/Users/avijames/anaconda3/lib/python3.8/site-packages/sklearn/model_selection/_validation.py\", line 593, in _fit_and_score\n",
      "    estimator.fit(X_train, y_train, **fit_params)\n",
      "  File \"/Users/avijames/anaconda3/lib/python3.8/site-packages/sklearn/tree/_classes.py\", line 898, in fit\n",
      "    super().fit(\n",
      "  File \"/Users/avijames/anaconda3/lib/python3.8/site-packages/sklearn/tree/_classes.py\", line 237, in fit\n",
      "    raise ValueError(\"min_samples_split must be an integer \"\n",
      "ValueError: min_samples_split must be an integer greater than 1 or a float in (0.0, 1.0]; got the integer 1\n",
      "\n",
      "  warnings.warn(\"Estimator fit failed. The score on this train-test\"\n",
      "/Users/avijames/anaconda3/lib/python3.8/site-packages/sklearn/model_selection/_validation.py:610: FitFailedWarning: Estimator fit failed. The score on this train-test partition for these parameters will be set to nan. Details: \n",
      "Traceback (most recent call last):\n",
      "  File \"/Users/avijames/anaconda3/lib/python3.8/site-packages/sklearn/model_selection/_validation.py\", line 593, in _fit_and_score\n",
      "    estimator.fit(X_train, y_train, **fit_params)\n",
      "  File \"/Users/avijames/anaconda3/lib/python3.8/site-packages/sklearn/tree/_classes.py\", line 898, in fit\n",
      "    super().fit(\n",
      "  File \"/Users/avijames/anaconda3/lib/python3.8/site-packages/sklearn/tree/_classes.py\", line 237, in fit\n",
      "    raise ValueError(\"min_samples_split must be an integer \"\n",
      "ValueError: min_samples_split must be an integer greater than 1 or a float in (0.0, 1.0]; got the integer 1\n",
      "\n",
      "  warnings.warn(\"Estimator fit failed. The score on this train-test\"\n",
      "/Users/avijames/anaconda3/lib/python3.8/site-packages/sklearn/model_selection/_validation.py:610: FitFailedWarning: Estimator fit failed. The score on this train-test partition for these parameters will be set to nan. Details: \n",
      "Traceback (most recent call last):\n",
      "  File \"/Users/avijames/anaconda3/lib/python3.8/site-packages/sklearn/model_selection/_validation.py\", line 593, in _fit_and_score\n",
      "    estimator.fit(X_train, y_train, **fit_params)\n",
      "  File \"/Users/avijames/anaconda3/lib/python3.8/site-packages/sklearn/tree/_classes.py\", line 898, in fit\n",
      "    super().fit(\n",
      "  File \"/Users/avijames/anaconda3/lib/python3.8/site-packages/sklearn/tree/_classes.py\", line 237, in fit\n",
      "    raise ValueError(\"min_samples_split must be an integer \"\n",
      "ValueError: min_samples_split must be an integer greater than 1 or a float in (0.0, 1.0]; got the integer 1\n",
      "\n",
      "  warnings.warn(\"Estimator fit failed. The score on this train-test\"\n",
      "/Users/avijames/anaconda3/lib/python3.8/site-packages/sklearn/model_selection/_validation.py:610: FitFailedWarning: Estimator fit failed. The score on this train-test partition for these parameters will be set to nan. Details: \n",
      "Traceback (most recent call last):\n",
      "  File \"/Users/avijames/anaconda3/lib/python3.8/site-packages/sklearn/model_selection/_validation.py\", line 593, in _fit_and_score\n",
      "    estimator.fit(X_train, y_train, **fit_params)\n",
      "  File \"/Users/avijames/anaconda3/lib/python3.8/site-packages/sklearn/tree/_classes.py\", line 898, in fit\n",
      "    super().fit(\n",
      "  File \"/Users/avijames/anaconda3/lib/python3.8/site-packages/sklearn/tree/_classes.py\", line 237, in fit\n",
      "    raise ValueError(\"min_samples_split must be an integer \"\n",
      "ValueError: min_samples_split must be an integer greater than 1 or a float in (0.0, 1.0]; got the integer 1\n",
      "\n",
      "  warnings.warn(\"Estimator fit failed. The score on this train-test\"\n",
      "/Users/avijames/anaconda3/lib/python3.8/site-packages/sklearn/model_selection/_validation.py:610: FitFailedWarning: Estimator fit failed. The score on this train-test partition for these parameters will be set to nan. Details: \n",
      "Traceback (most recent call last):\n",
      "  File \"/Users/avijames/anaconda3/lib/python3.8/site-packages/sklearn/model_selection/_validation.py\", line 593, in _fit_and_score\n",
      "    estimator.fit(X_train, y_train, **fit_params)\n",
      "  File \"/Users/avijames/anaconda3/lib/python3.8/site-packages/sklearn/tree/_classes.py\", line 898, in fit\n",
      "    super().fit(\n",
      "  File \"/Users/avijames/anaconda3/lib/python3.8/site-packages/sklearn/tree/_classes.py\", line 237, in fit\n",
      "    raise ValueError(\"min_samples_split must be an integer \"\n",
      "ValueError: min_samples_split must be an integer greater than 1 or a float in (0.0, 1.0]; got the integer 1\n",
      "\n",
      "  warnings.warn(\"Estimator fit failed. The score on this train-test\"\n"
     ]
    },
    {
     "name": "stderr",
     "output_type": "stream",
     "text": [
      "/Users/avijames/anaconda3/lib/python3.8/site-packages/sklearn/model_selection/_validation.py:610: FitFailedWarning: Estimator fit failed. The score on this train-test partition for these parameters will be set to nan. Details: \n",
      "Traceback (most recent call last):\n",
      "  File \"/Users/avijames/anaconda3/lib/python3.8/site-packages/sklearn/model_selection/_validation.py\", line 593, in _fit_and_score\n",
      "    estimator.fit(X_train, y_train, **fit_params)\n",
      "  File \"/Users/avijames/anaconda3/lib/python3.8/site-packages/sklearn/tree/_classes.py\", line 898, in fit\n",
      "    super().fit(\n",
      "  File \"/Users/avijames/anaconda3/lib/python3.8/site-packages/sklearn/tree/_classes.py\", line 237, in fit\n",
      "    raise ValueError(\"min_samples_split must be an integer \"\n",
      "ValueError: min_samples_split must be an integer greater than 1 or a float in (0.0, 1.0]; got the integer 1\n",
      "\n",
      "  warnings.warn(\"Estimator fit failed. The score on this train-test\"\n",
      "/Users/avijames/anaconda3/lib/python3.8/site-packages/sklearn/model_selection/_validation.py:610: FitFailedWarning: Estimator fit failed. The score on this train-test partition for these parameters will be set to nan. Details: \n",
      "Traceback (most recent call last):\n",
      "  File \"/Users/avijames/anaconda3/lib/python3.8/site-packages/sklearn/model_selection/_validation.py\", line 593, in _fit_and_score\n",
      "    estimator.fit(X_train, y_train, **fit_params)\n",
      "  File \"/Users/avijames/anaconda3/lib/python3.8/site-packages/sklearn/tree/_classes.py\", line 898, in fit\n",
      "    super().fit(\n",
      "  File \"/Users/avijames/anaconda3/lib/python3.8/site-packages/sklearn/tree/_classes.py\", line 237, in fit\n",
      "    raise ValueError(\"min_samples_split must be an integer \"\n",
      "ValueError: min_samples_split must be an integer greater than 1 or a float in (0.0, 1.0]; got the integer 1\n",
      "\n",
      "  warnings.warn(\"Estimator fit failed. The score on this train-test\"\n",
      "/Users/avijames/anaconda3/lib/python3.8/site-packages/sklearn/model_selection/_validation.py:610: FitFailedWarning: Estimator fit failed. The score on this train-test partition for these parameters will be set to nan. Details: \n",
      "Traceback (most recent call last):\n",
      "  File \"/Users/avijames/anaconda3/lib/python3.8/site-packages/sklearn/model_selection/_validation.py\", line 593, in _fit_and_score\n",
      "    estimator.fit(X_train, y_train, **fit_params)\n",
      "  File \"/Users/avijames/anaconda3/lib/python3.8/site-packages/sklearn/tree/_classes.py\", line 898, in fit\n",
      "    super().fit(\n",
      "  File \"/Users/avijames/anaconda3/lib/python3.8/site-packages/sklearn/tree/_classes.py\", line 237, in fit\n",
      "    raise ValueError(\"min_samples_split must be an integer \"\n",
      "ValueError: min_samples_split must be an integer greater than 1 or a float in (0.0, 1.0]; got the integer 1\n",
      "\n",
      "  warnings.warn(\"Estimator fit failed. The score on this train-test\"\n",
      "/Users/avijames/anaconda3/lib/python3.8/site-packages/sklearn/model_selection/_validation.py:610: FitFailedWarning: Estimator fit failed. The score on this train-test partition for these parameters will be set to nan. Details: \n",
      "Traceback (most recent call last):\n",
      "  File \"/Users/avijames/anaconda3/lib/python3.8/site-packages/sklearn/model_selection/_validation.py\", line 593, in _fit_and_score\n",
      "    estimator.fit(X_train, y_train, **fit_params)\n",
      "  File \"/Users/avijames/anaconda3/lib/python3.8/site-packages/sklearn/tree/_classes.py\", line 898, in fit\n",
      "    super().fit(\n",
      "  File \"/Users/avijames/anaconda3/lib/python3.8/site-packages/sklearn/tree/_classes.py\", line 237, in fit\n",
      "    raise ValueError(\"min_samples_split must be an integer \"\n",
      "ValueError: min_samples_split must be an integer greater than 1 or a float in (0.0, 1.0]; got the integer 1\n",
      "\n",
      "  warnings.warn(\"Estimator fit failed. The score on this train-test\"\n",
      "/Users/avijames/anaconda3/lib/python3.8/site-packages/sklearn/model_selection/_validation.py:610: FitFailedWarning: Estimator fit failed. The score on this train-test partition for these parameters will be set to nan. Details: \n",
      "Traceback (most recent call last):\n",
      "  File \"/Users/avijames/anaconda3/lib/python3.8/site-packages/sklearn/model_selection/_validation.py\", line 593, in _fit_and_score\n",
      "    estimator.fit(X_train, y_train, **fit_params)\n",
      "  File \"/Users/avijames/anaconda3/lib/python3.8/site-packages/sklearn/tree/_classes.py\", line 898, in fit\n",
      "    super().fit(\n",
      "  File \"/Users/avijames/anaconda3/lib/python3.8/site-packages/sklearn/tree/_classes.py\", line 237, in fit\n",
      "    raise ValueError(\"min_samples_split must be an integer \"\n",
      "ValueError: min_samples_split must be an integer greater than 1 or a float in (0.0, 1.0]; got the integer 1\n",
      "\n",
      "  warnings.warn(\"Estimator fit failed. The score on this train-test\"\n",
      "/Users/avijames/anaconda3/lib/python3.8/site-packages/sklearn/model_selection/_validation.py:610: FitFailedWarning: Estimator fit failed. The score on this train-test partition for these parameters will be set to nan. Details: \n",
      "Traceback (most recent call last):\n",
      "  File \"/Users/avijames/anaconda3/lib/python3.8/site-packages/sklearn/model_selection/_validation.py\", line 593, in _fit_and_score\n",
      "    estimator.fit(X_train, y_train, **fit_params)\n",
      "  File \"/Users/avijames/anaconda3/lib/python3.8/site-packages/sklearn/tree/_classes.py\", line 898, in fit\n",
      "    super().fit(\n",
      "  File \"/Users/avijames/anaconda3/lib/python3.8/site-packages/sklearn/tree/_classes.py\", line 237, in fit\n",
      "    raise ValueError(\"min_samples_split must be an integer \"\n",
      "ValueError: min_samples_split must be an integer greater than 1 or a float in (0.0, 1.0]; got the integer 1\n",
      "\n",
      "  warnings.warn(\"Estimator fit failed. The score on this train-test\"\n",
      "/Users/avijames/anaconda3/lib/python3.8/site-packages/sklearn/model_selection/_validation.py:610: FitFailedWarning: Estimator fit failed. The score on this train-test partition for these parameters will be set to nan. Details: \n",
      "Traceback (most recent call last):\n",
      "  File \"/Users/avijames/anaconda3/lib/python3.8/site-packages/sklearn/model_selection/_validation.py\", line 593, in _fit_and_score\n",
      "    estimator.fit(X_train, y_train, **fit_params)\n",
      "  File \"/Users/avijames/anaconda3/lib/python3.8/site-packages/sklearn/tree/_classes.py\", line 898, in fit\n",
      "    super().fit(\n",
      "  File \"/Users/avijames/anaconda3/lib/python3.8/site-packages/sklearn/tree/_classes.py\", line 237, in fit\n",
      "    raise ValueError(\"min_samples_split must be an integer \"\n",
      "ValueError: min_samples_split must be an integer greater than 1 or a float in (0.0, 1.0]; got the integer 1\n",
      "\n",
      "  warnings.warn(\"Estimator fit failed. The score on this train-test\"\n",
      "/Users/avijames/anaconda3/lib/python3.8/site-packages/sklearn/model_selection/_validation.py:610: FitFailedWarning: Estimator fit failed. The score on this train-test partition for these parameters will be set to nan. Details: \n",
      "Traceback (most recent call last):\n",
      "  File \"/Users/avijames/anaconda3/lib/python3.8/site-packages/sklearn/model_selection/_validation.py\", line 593, in _fit_and_score\n",
      "    estimator.fit(X_train, y_train, **fit_params)\n",
      "  File \"/Users/avijames/anaconda3/lib/python3.8/site-packages/sklearn/tree/_classes.py\", line 898, in fit\n",
      "    super().fit(\n",
      "  File \"/Users/avijames/anaconda3/lib/python3.8/site-packages/sklearn/tree/_classes.py\", line 237, in fit\n",
      "    raise ValueError(\"min_samples_split must be an integer \"\n",
      "ValueError: min_samples_split must be an integer greater than 1 or a float in (0.0, 1.0]; got the integer 1\n",
      "\n",
      "  warnings.warn(\"Estimator fit failed. The score on this train-test\"\n",
      "/Users/avijames/anaconda3/lib/python3.8/site-packages/sklearn/model_selection/_validation.py:610: FitFailedWarning: Estimator fit failed. The score on this train-test partition for these parameters will be set to nan. Details: \n",
      "Traceback (most recent call last):\n",
      "  File \"/Users/avijames/anaconda3/lib/python3.8/site-packages/sklearn/model_selection/_validation.py\", line 593, in _fit_and_score\n",
      "    estimator.fit(X_train, y_train, **fit_params)\n",
      "  File \"/Users/avijames/anaconda3/lib/python3.8/site-packages/sklearn/tree/_classes.py\", line 898, in fit\n",
      "    super().fit(\n",
      "  File \"/Users/avijames/anaconda3/lib/python3.8/site-packages/sklearn/tree/_classes.py\", line 237, in fit\n",
      "    raise ValueError(\"min_samples_split must be an integer \"\n",
      "ValueError: min_samples_split must be an integer greater than 1 or a float in (0.0, 1.0]; got the integer 1\n",
      "\n",
      "  warnings.warn(\"Estimator fit failed. The score on this train-test\"\n"
     ]
    },
    {
     "name": "stderr",
     "output_type": "stream",
     "text": [
      "/Users/avijames/anaconda3/lib/python3.8/site-packages/sklearn/model_selection/_validation.py:610: FitFailedWarning: Estimator fit failed. The score on this train-test partition for these parameters will be set to nan. Details: \n",
      "Traceback (most recent call last):\n",
      "  File \"/Users/avijames/anaconda3/lib/python3.8/site-packages/sklearn/model_selection/_validation.py\", line 593, in _fit_and_score\n",
      "    estimator.fit(X_train, y_train, **fit_params)\n",
      "  File \"/Users/avijames/anaconda3/lib/python3.8/site-packages/sklearn/tree/_classes.py\", line 898, in fit\n",
      "    super().fit(\n",
      "  File \"/Users/avijames/anaconda3/lib/python3.8/site-packages/sklearn/tree/_classes.py\", line 237, in fit\n",
      "    raise ValueError(\"min_samples_split must be an integer \"\n",
      "ValueError: min_samples_split must be an integer greater than 1 or a float in (0.0, 1.0]; got the integer 1\n",
      "\n",
      "  warnings.warn(\"Estimator fit failed. The score on this train-test\"\n",
      "/Users/avijames/anaconda3/lib/python3.8/site-packages/sklearn/model_selection/_validation.py:610: FitFailedWarning: Estimator fit failed. The score on this train-test partition for these parameters will be set to nan. Details: \n",
      "Traceback (most recent call last):\n",
      "  File \"/Users/avijames/anaconda3/lib/python3.8/site-packages/sklearn/model_selection/_validation.py\", line 593, in _fit_and_score\n",
      "    estimator.fit(X_train, y_train, **fit_params)\n",
      "  File \"/Users/avijames/anaconda3/lib/python3.8/site-packages/sklearn/tree/_classes.py\", line 898, in fit\n",
      "    super().fit(\n",
      "  File \"/Users/avijames/anaconda3/lib/python3.8/site-packages/sklearn/tree/_classes.py\", line 237, in fit\n",
      "    raise ValueError(\"min_samples_split must be an integer \"\n",
      "ValueError: min_samples_split must be an integer greater than 1 or a float in (0.0, 1.0]; got the integer 1\n",
      "\n",
      "  warnings.warn(\"Estimator fit failed. The score on this train-test\"\n",
      "/Users/avijames/anaconda3/lib/python3.8/site-packages/sklearn/model_selection/_validation.py:610: FitFailedWarning: Estimator fit failed. The score on this train-test partition for these parameters will be set to nan. Details: \n",
      "Traceback (most recent call last):\n",
      "  File \"/Users/avijames/anaconda3/lib/python3.8/site-packages/sklearn/model_selection/_validation.py\", line 593, in _fit_and_score\n",
      "    estimator.fit(X_train, y_train, **fit_params)\n",
      "  File \"/Users/avijames/anaconda3/lib/python3.8/site-packages/sklearn/tree/_classes.py\", line 898, in fit\n",
      "    super().fit(\n",
      "  File \"/Users/avijames/anaconda3/lib/python3.8/site-packages/sklearn/tree/_classes.py\", line 237, in fit\n",
      "    raise ValueError(\"min_samples_split must be an integer \"\n",
      "ValueError: min_samples_split must be an integer greater than 1 or a float in (0.0, 1.0]; got the integer 1\n",
      "\n",
      "  warnings.warn(\"Estimator fit failed. The score on this train-test\"\n",
      "/Users/avijames/anaconda3/lib/python3.8/site-packages/sklearn/model_selection/_validation.py:610: FitFailedWarning: Estimator fit failed. The score on this train-test partition for these parameters will be set to nan. Details: \n",
      "Traceback (most recent call last):\n",
      "  File \"/Users/avijames/anaconda3/lib/python3.8/site-packages/sklearn/model_selection/_validation.py\", line 593, in _fit_and_score\n",
      "    estimator.fit(X_train, y_train, **fit_params)\n",
      "  File \"/Users/avijames/anaconda3/lib/python3.8/site-packages/sklearn/tree/_classes.py\", line 898, in fit\n",
      "    super().fit(\n",
      "  File \"/Users/avijames/anaconda3/lib/python3.8/site-packages/sklearn/tree/_classes.py\", line 237, in fit\n",
      "    raise ValueError(\"min_samples_split must be an integer \"\n",
      "ValueError: min_samples_split must be an integer greater than 1 or a float in (0.0, 1.0]; got the integer 1\n",
      "\n",
      "  warnings.warn(\"Estimator fit failed. The score on this train-test\"\n",
      "/Users/avijames/anaconda3/lib/python3.8/site-packages/sklearn/model_selection/_validation.py:610: FitFailedWarning: Estimator fit failed. The score on this train-test partition for these parameters will be set to nan. Details: \n",
      "Traceback (most recent call last):\n",
      "  File \"/Users/avijames/anaconda3/lib/python3.8/site-packages/sklearn/model_selection/_validation.py\", line 593, in _fit_and_score\n",
      "    estimator.fit(X_train, y_train, **fit_params)\n",
      "  File \"/Users/avijames/anaconda3/lib/python3.8/site-packages/sklearn/tree/_classes.py\", line 898, in fit\n",
      "    super().fit(\n",
      "  File \"/Users/avijames/anaconda3/lib/python3.8/site-packages/sklearn/tree/_classes.py\", line 237, in fit\n",
      "    raise ValueError(\"min_samples_split must be an integer \"\n",
      "ValueError: min_samples_split must be an integer greater than 1 or a float in (0.0, 1.0]; got the integer 1\n",
      "\n",
      "  warnings.warn(\"Estimator fit failed. The score on this train-test\"\n",
      "/Users/avijames/anaconda3/lib/python3.8/site-packages/sklearn/model_selection/_validation.py:610: FitFailedWarning: Estimator fit failed. The score on this train-test partition for these parameters will be set to nan. Details: \n",
      "Traceback (most recent call last):\n",
      "  File \"/Users/avijames/anaconda3/lib/python3.8/site-packages/sklearn/model_selection/_validation.py\", line 593, in _fit_and_score\n",
      "    estimator.fit(X_train, y_train, **fit_params)\n",
      "  File \"/Users/avijames/anaconda3/lib/python3.8/site-packages/sklearn/tree/_classes.py\", line 898, in fit\n",
      "    super().fit(\n",
      "  File \"/Users/avijames/anaconda3/lib/python3.8/site-packages/sklearn/tree/_classes.py\", line 237, in fit\n",
      "    raise ValueError(\"min_samples_split must be an integer \"\n",
      "ValueError: min_samples_split must be an integer greater than 1 or a float in (0.0, 1.0]; got the integer 1\n",
      "\n",
      "  warnings.warn(\"Estimator fit failed. The score on this train-test\"\n",
      "/Users/avijames/anaconda3/lib/python3.8/site-packages/sklearn/model_selection/_validation.py:610: FitFailedWarning: Estimator fit failed. The score on this train-test partition for these parameters will be set to nan. Details: \n",
      "Traceback (most recent call last):\n",
      "  File \"/Users/avijames/anaconda3/lib/python3.8/site-packages/sklearn/model_selection/_validation.py\", line 593, in _fit_and_score\n",
      "    estimator.fit(X_train, y_train, **fit_params)\n",
      "  File \"/Users/avijames/anaconda3/lib/python3.8/site-packages/sklearn/tree/_classes.py\", line 898, in fit\n",
      "    super().fit(\n",
      "  File \"/Users/avijames/anaconda3/lib/python3.8/site-packages/sklearn/tree/_classes.py\", line 237, in fit\n",
      "    raise ValueError(\"min_samples_split must be an integer \"\n",
      "ValueError: min_samples_split must be an integer greater than 1 or a float in (0.0, 1.0]; got the integer 1\n",
      "\n",
      "  warnings.warn(\"Estimator fit failed. The score on this train-test\"\n",
      "/Users/avijames/anaconda3/lib/python3.8/site-packages/sklearn/model_selection/_validation.py:610: FitFailedWarning: Estimator fit failed. The score on this train-test partition for these parameters will be set to nan. Details: \n",
      "Traceback (most recent call last):\n",
      "  File \"/Users/avijames/anaconda3/lib/python3.8/site-packages/sklearn/model_selection/_validation.py\", line 593, in _fit_and_score\n",
      "    estimator.fit(X_train, y_train, **fit_params)\n",
      "  File \"/Users/avijames/anaconda3/lib/python3.8/site-packages/sklearn/tree/_classes.py\", line 898, in fit\n",
      "    super().fit(\n",
      "  File \"/Users/avijames/anaconda3/lib/python3.8/site-packages/sklearn/tree/_classes.py\", line 237, in fit\n",
      "    raise ValueError(\"min_samples_split must be an integer \"\n",
      "ValueError: min_samples_split must be an integer greater than 1 or a float in (0.0, 1.0]; got the integer 1\n",
      "\n",
      "  warnings.warn(\"Estimator fit failed. The score on this train-test\"\n",
      "/Users/avijames/anaconda3/lib/python3.8/site-packages/sklearn/model_selection/_validation.py:610: FitFailedWarning: Estimator fit failed. The score on this train-test partition for these parameters will be set to nan. Details: \n",
      "Traceback (most recent call last):\n",
      "  File \"/Users/avijames/anaconda3/lib/python3.8/site-packages/sklearn/model_selection/_validation.py\", line 593, in _fit_and_score\n",
      "    estimator.fit(X_train, y_train, **fit_params)\n",
      "  File \"/Users/avijames/anaconda3/lib/python3.8/site-packages/sklearn/tree/_classes.py\", line 898, in fit\n",
      "    super().fit(\n",
      "  File \"/Users/avijames/anaconda3/lib/python3.8/site-packages/sklearn/tree/_classes.py\", line 237, in fit\n",
      "    raise ValueError(\"min_samples_split must be an integer \"\n",
      "ValueError: min_samples_split must be an integer greater than 1 or a float in (0.0, 1.0]; got the integer 1\n",
      "\n",
      "  warnings.warn(\"Estimator fit failed. The score on this train-test\"\n"
     ]
    },
    {
     "name": "stderr",
     "output_type": "stream",
     "text": [
      "/Users/avijames/anaconda3/lib/python3.8/site-packages/sklearn/model_selection/_validation.py:610: FitFailedWarning: Estimator fit failed. The score on this train-test partition for these parameters will be set to nan. Details: \n",
      "Traceback (most recent call last):\n",
      "  File \"/Users/avijames/anaconda3/lib/python3.8/site-packages/sklearn/model_selection/_validation.py\", line 593, in _fit_and_score\n",
      "    estimator.fit(X_train, y_train, **fit_params)\n",
      "  File \"/Users/avijames/anaconda3/lib/python3.8/site-packages/sklearn/tree/_classes.py\", line 898, in fit\n",
      "    super().fit(\n",
      "  File \"/Users/avijames/anaconda3/lib/python3.8/site-packages/sklearn/tree/_classes.py\", line 237, in fit\n",
      "    raise ValueError(\"min_samples_split must be an integer \"\n",
      "ValueError: min_samples_split must be an integer greater than 1 or a float in (0.0, 1.0]; got the integer 1\n",
      "\n",
      "  warnings.warn(\"Estimator fit failed. The score on this train-test\"\n",
      "/Users/avijames/anaconda3/lib/python3.8/site-packages/sklearn/model_selection/_validation.py:610: FitFailedWarning: Estimator fit failed. The score on this train-test partition for these parameters will be set to nan. Details: \n",
      "Traceback (most recent call last):\n",
      "  File \"/Users/avijames/anaconda3/lib/python3.8/site-packages/sklearn/model_selection/_validation.py\", line 593, in _fit_and_score\n",
      "    estimator.fit(X_train, y_train, **fit_params)\n",
      "  File \"/Users/avijames/anaconda3/lib/python3.8/site-packages/sklearn/tree/_classes.py\", line 898, in fit\n",
      "    super().fit(\n",
      "  File \"/Users/avijames/anaconda3/lib/python3.8/site-packages/sklearn/tree/_classes.py\", line 237, in fit\n",
      "    raise ValueError(\"min_samples_split must be an integer \"\n",
      "ValueError: min_samples_split must be an integer greater than 1 or a float in (0.0, 1.0]; got the integer 1\n",
      "\n",
      "  warnings.warn(\"Estimator fit failed. The score on this train-test\"\n",
      "/Users/avijames/anaconda3/lib/python3.8/site-packages/sklearn/model_selection/_validation.py:610: FitFailedWarning: Estimator fit failed. The score on this train-test partition for these parameters will be set to nan. Details: \n",
      "Traceback (most recent call last):\n",
      "  File \"/Users/avijames/anaconda3/lib/python3.8/site-packages/sklearn/model_selection/_validation.py\", line 593, in _fit_and_score\n",
      "    estimator.fit(X_train, y_train, **fit_params)\n",
      "  File \"/Users/avijames/anaconda3/lib/python3.8/site-packages/sklearn/tree/_classes.py\", line 898, in fit\n",
      "    super().fit(\n",
      "  File \"/Users/avijames/anaconda3/lib/python3.8/site-packages/sklearn/tree/_classes.py\", line 237, in fit\n",
      "    raise ValueError(\"min_samples_split must be an integer \"\n",
      "ValueError: min_samples_split must be an integer greater than 1 or a float in (0.0, 1.0]; got the integer 1\n",
      "\n",
      "  warnings.warn(\"Estimator fit failed. The score on this train-test\"\n",
      "/Users/avijames/anaconda3/lib/python3.8/site-packages/sklearn/model_selection/_validation.py:610: FitFailedWarning: Estimator fit failed. The score on this train-test partition for these parameters will be set to nan. Details: \n",
      "Traceback (most recent call last):\n",
      "  File \"/Users/avijames/anaconda3/lib/python3.8/site-packages/sklearn/model_selection/_validation.py\", line 593, in _fit_and_score\n",
      "    estimator.fit(X_train, y_train, **fit_params)\n",
      "  File \"/Users/avijames/anaconda3/lib/python3.8/site-packages/sklearn/tree/_classes.py\", line 898, in fit\n",
      "    super().fit(\n",
      "  File \"/Users/avijames/anaconda3/lib/python3.8/site-packages/sklearn/tree/_classes.py\", line 237, in fit\n",
      "    raise ValueError(\"min_samples_split must be an integer \"\n",
      "ValueError: min_samples_split must be an integer greater than 1 or a float in (0.0, 1.0]; got the integer 1\n",
      "\n",
      "  warnings.warn(\"Estimator fit failed. The score on this train-test\"\n",
      "/Users/avijames/anaconda3/lib/python3.8/site-packages/sklearn/model_selection/_search.py:918: UserWarning: One or more of the test scores are non-finite: [       nan 0.40053225 0.40053225 0.40053225        nan 0.44640662\n",
      " 0.44640662 0.44640662        nan 0.51380964 0.51380964 0.51380964\n",
      "        nan 0.55087659 0.55098794 0.55106588        nan 0.40053225\n",
      " 0.40053225 0.40053225        nan 0.4455938  0.4455938  0.4455938\n",
      "        nan 0.51779582 0.51779582 0.51779582        nan 0.54900598\n",
      " 0.54906165 0.54910619]\n",
      "  warnings.warn(\n"
     ]
    },
    {
     "data": {
      "text/plain": [
       "{'criterion': 'gini', 'max_depth': 10, 'min_samples_split': 20}"
      ]
     },
     "execution_count": 12,
     "metadata": {},
     "output_type": "execute_result"
    }
   ],
   "source": [
    "param_grid = {\n",
    "    'criterion': ['gini', 'entropy'],\n",
    "    'max_depth': [1, 2, 5, 10],\n",
    "    'min_samples_split': [1, 5, 10, 20]\n",
    "}\n",
    "\n",
    "gs_tree = GridSearchCV(dtree, param_grid, cv=5)\n",
    "gs_tree.fit(X_train, y_train)\n",
    "\n",
    "gs_tree.best_params_"
   ]
  },
  {
   "cell_type": "code",
   "execution_count": 14,
   "id": "255597d5",
   "metadata": {},
   "outputs": [
    {
     "name": "stdout",
     "output_type": "stream",
     "text": [
      "Accuracy: 0.5486354678157463 \n"
     ]
    }
   ],
   "source": [
    "dtree_grid = DecisionTreeClassifier(criterion= 'gini', max_depth= 10, min_samples_split= 20)\n",
    "dtree_grid.fit(X_train,y_train)\n",
    "predictions = dtree_grid.predict(X_test)\n",
    "acc_dtree=accuracy_score(predictions, y_test)\n",
    "print('Accuracy: {} '.format(acc_dtree))"
   ]
  },
  {
   "cell_type": "code",
   "execution_count": null,
   "id": "6bf98dbd",
   "metadata": {},
   "outputs": [],
   "source": []
  },
  {
   "cell_type": "code",
   "execution_count": null,
   "id": "b6e9966c",
   "metadata": {},
   "outputs": [],
   "source": []
  },
  {
   "cell_type": "markdown",
   "id": "737a73f3",
   "metadata": {},
   "source": [
    "#### Random Forest"
   ]
  },
  {
   "cell_type": "code",
   "execution_count": 120,
   "id": "069b3f39",
   "metadata": {},
   "outputs": [
    {
     "name": "stdout",
     "output_type": "stream",
     "text": [
      "Accuracy: 0.5082506597187427 \n",
      "AUC: 0.7295378628453084\n"
     ]
    }
   ],
   "source": [
    "from sklearn.ensemble import RandomForestClassifier\n",
    "randf=RandomForestClassifier(max_depth=7, n_estimators=250, random_state=42)\n",
    "\n",
    "randf.fit(X_train, y_train)\n",
    "y_pred = randf.predict(X_test)\n",
    "\n",
    "\n",
    "acc_rand = accuracy_score(y_pred, y_test)\n",
    "print('Accuracy: {} '.format(acc_rand))\n",
    "print('AUC: {}'.format(multiclass_roc_auc_score(y_test, y_pred)))"
   ]
  },
  {
   "cell_type": "markdown",
   "id": "5bc095a3",
   "metadata": {},
   "source": [
    "### XG Boost"
   ]
  },
  {
   "cell_type": "code",
   "execution_count": 121,
   "id": "b3767064",
   "metadata": {},
   "outputs": [],
   "source": [
    "columns =['TRAFFIC_CONTROL_DEVICE',\n",
    "       'ROADWAY_SURFACE_COND','DEVICE_CONDITION', 'FIRST_CRASH_TYPE','DRIVER_VISION','PHYSICAL_CONDITION',]\n",
    "\n",
    "\n",
    "df_new = df[columns]\n",
    "new_df = df_new\n",
    "\n",
    "# getting dummies\n",
    "dummy_df=pd.get_dummies(new_df, columns= ['TRAFFIC_CONTROL_DEVICE','ROADWAY_SURFACE_COND','DEVICE_CONDITION', 'FIRST_CRASH_TYPE','DRIVER_VISION','PHYSICAL_CONDITION'], drop_first=True)"
   ]
  },
  {
   "cell_type": "code",
   "execution_count": 122,
   "id": "2b8d6ee8",
   "metadata": {},
   "outputs": [],
   "source": [
    "X = dummy_df\n",
    "y = df['PRIM_CONTRIBUTORY_CAUSE']\n",
    "X_train, X_test, y_train, y_test = train_test_split(X, y, test_size=0.25, random_state=42, stratify=y)"
   ]
  },
  {
   "cell_type": "code",
   "execution_count": 123,
   "id": "e5e6bab2",
   "metadata": {},
   "outputs": [
    {
     "name": "stderr",
     "output_type": "stream",
     "text": [
      "/Users/avijames/anaconda3/lib/python3.8/site-packages/xgboost/sklearn.py:888: UserWarning: The use of label encoder in XGBClassifier is deprecated and will be removed in a future release. To remove this warning, do the following: 1) Pass option use_label_encoder=False when constructing XGBClassifier object; and 2) Encode your labels (y) as integers starting with 0, i.e. 0, 1, 2, ..., [num_class - 1].\n",
      "  warnings.warn(label_encoder_deprecation_msg, UserWarning)\n"
     ]
    },
    {
     "name": "stdout",
     "output_type": "stream",
     "text": [
      "[13:39:39] WARNING: /opt/concourse/worker/volumes/live/7a2b9f41-3287-451b-6691-43e9a6c0910f/volume/xgboost-split_1619728204606/work/src/learner.cc:1061: Starting in XGBoost 1.3.0, the default evaluation metric used with the objective 'multi:softprob' was changed from 'merror' to 'mlogloss'. Explicitly set eval_metric if you'd like to restore the old behavior.\n",
      "Accuracy: 0.5579884423956977 \n",
      "AUC: 0.7568936433176338\n"
     ]
    }
   ],
   "source": [
    "xgboost= xgb.XGBClassifier(objective='multi:softmax', random_state=42, max_depth=3, gamma=1)\n",
    "\n",
    "xgboost.fit(X_train, y_train)\n",
    "y_pred = xgboost.predict(X_test)\n",
    "\n",
    "acc_xgb = accuracy_score(y_pred, y_test)\n",
    "print('Accuracy: {} '.format(acc_xgb))\n",
    "print('AUC: {}'.format(multiclass_roc_auc_score(y_test, y_pred)))"
   ]
  },
  {
   "cell_type": "code",
   "execution_count": 61,
   "id": "ba929124",
   "metadata": {},
   "outputs": [
    {
     "name": "stdout",
     "output_type": "stream",
     "text": [
      "[[ 1484     0   566     0   308  1638   142    97    18     0   118]\n",
      " [   60     0   543     0   678   154   102    55    35     0    36]\n",
      " [  235     2  4806     0  1311  3518   880   122   103     0   217]\n",
      " [   27     0   375     0   169    35    44    14    24     0    43]\n",
      " [  172     1  1215     0 12327  1075   549   210    33     0   193]\n",
      " [  535     1   944     0   372  7627  2252    35    51     0    69]\n",
      " [   99     0  1593     0   375  1186  4900    85    19     0    61]\n",
      " [   73     1   587     0   275   163   167  1253    19     0    34]\n",
      " [   29     0   424     0   111   405   107    20   319     0    91]\n",
      " [    0     0    10     0     6     8    16     2     2     0     1]\n",
      " [   63     1   164     0   531   252    67    20    22     0   693]]\n"
     ]
    }
   ],
   "source": [
    "print(confusion_matrix(y_test,y_pred))"
   ]
  },
  {
   "cell_type": "markdown",
   "id": "b7652f7f",
   "metadata": {},
   "source": [
    "### Which model performed the best on the holdout set?"
   ]
  },
  {
   "cell_type": "code",
   "execution_count": 50,
   "id": "7cde90d3",
   "metadata": {},
   "outputs": [
    {
     "name": "stdout",
     "output_type": "stream",
     "text": [
      "Logistic Regression:  0.5550489360991415\n",
      "KNN:  0.5486354678157463\n",
      "Decision tree grid search:  0.5486354678157463\n",
      "Random Forest:  0.5082506597187427\n",
      "XGBoost:  0.5579884423956977\n"
     ]
    }
   ],
   "source": [
    "log_reg_score =logreg_dummy.score(X_test, y_test)\n",
    "knn_score =knn_dummy.score(X_test, y_test)\n",
    "dt_grid_score = dtree_grid.score(X_test, y_test)\n",
    "rf_score = randf.score(X_test, y_test)\n",
    "xg_score = xgboost.score(X_test, y_test)\n",
    "\n",
    "\n",
    "print('Logistic Regression: ', log_reg_score)\n",
    "print('KNN: ', dt_grid_score)\n",
    "print('Decision tree grid search: ', dt_grid_score)\n",
    "print('Random Forest: ', rf_score)\n",
    "print('XGBoost: ', xg_score)"
   ]
  },
  {
   "cell_type": "markdown",
   "id": "ee81fa19",
   "metadata": {},
   "source": [
    "### SMOTE Sampling to bring up the imbalanced classes"
   ]
  },
  {
   "cell_type": "code",
   "execution_count": 89,
   "id": "35f92b20",
   "metadata": {},
   "outputs": [],
   "source": [
    "from imblearn.over_sampling import SMOTE"
   ]
  },
  {
   "cell_type": "code",
   "execution_count": 90,
   "id": "75f94a76",
   "metadata": {},
   "outputs": [],
   "source": [
    "X = dummy_df\n",
    "y = df['PRIM_CONTRIBUTORY_CAUSE']\n",
    "\n",
    "# performing train test split\n",
    "X_train, X_test, y_train, y_test = train_test_split(X, y, test_size=0.25,random_state=42,stratify=y)\n",
    "\n",
    "# standardizing the data\n",
    "scaler=StandardScaler()\n",
    "\n",
    "X_train=scaler.fit_transform(X_train)\n",
    "X_test=scaler.transform(X_test)\n",
    "\n",
    "# hanlding the imbalance with SMOTE\n",
    "smote = SMOTE(k_neighbors=6)\n",
    "X_train, y_train = smote.fit_resample(X_train, y_train)"
   ]
  },
  {
   "cell_type": "markdown",
   "id": "7daffc64",
   "metadata": {},
   "source": [
    "### XGBoost"
   ]
  },
  {
   "cell_type": "code",
   "execution_count": 91,
   "id": "bcb02db6",
   "metadata": {},
   "outputs": [
    {
     "name": "stderr",
     "output_type": "stream",
     "text": [
      "/Users/avijames/anaconda3/lib/python3.8/site-packages/xgboost/sklearn.py:888: UserWarning: The use of label encoder in XGBClassifier is deprecated and will be removed in a future release. To remove this warning, do the following: 1) Pass option use_label_encoder=False when constructing XGBClassifier object; and 2) Encode your labels (y) as integers starting with 0, i.e. 0, 1, 2, ..., [num_class - 1].\n",
      "  warnings.warn(label_encoder_deprecation_msg, UserWarning)\n"
     ]
    },
    {
     "name": "stdout",
     "output_type": "stream",
     "text": [
      "[13:21:50] WARNING: /opt/concourse/worker/volumes/live/7a2b9f41-3287-451b-6691-43e9a6c0910f/volume/xgboost-split_1619728204606/work/src/learner.cc:1061: Starting in XGBoost 1.3.0, the default evaluation metric used with the objective 'multi:softprob' was changed from 'merror' to 'mlogloss'. Explicitly set eval_metric if you'd like to restore the old behavior.\n",
      "Accuracy: 0.4566255803854762 \n",
      "AUC: 0.7011440692120119\n"
     ]
    }
   ],
   "source": [
    "xgboost= xgb.XGBClassifier(objective='multi:softmax', random_state=42, max_depth=3, gamma=1)\n",
    "\n",
    "xgboost.fit(X_train, y_train)\n",
    "y_pred = xgboost.predict(X_test)\n",
    "\n",
    "acc_xgb = accuracy_score(y_pred, y_test)\n",
    "print('Accuracy: {} '.format(acc_xgb))\n",
    "print('AUC: {}'.format(multiclass_roc_auc_score(y_test, y_pred)))"
   ]
  },
  {
   "cell_type": "code",
   "execution_count": 92,
   "id": "7ae47617",
   "metadata": {},
   "outputs": [
    {
     "name": "stdout",
     "output_type": "stream",
     "text": [
      "[[ 2379     7   323   148   214   429   157   265   108     8   333]\n",
      " [   89    56    55   326   551    72    93   134   105    53   129]\n",
      " [  807    55  2072  1573  1115  2054   851  1186   425   425   631]\n",
      " [   29     5    27   275   139    19    43    39    34    35    86]\n",
      " [  404    71   443   460 10364   547   509   684   128   128  2037]\n",
      " [ 2465     8  1458   175   313  3827  2005   143   754   240   498]\n",
      " [  358    15   702   536   324   588  4565   428   152   390   260]\n",
      " [  109    13    70   143   181    86   163  1638    48    32    89]\n",
      " [   28    19    30   250    52    70    83    45   745    33   151]\n",
      " [    0     0     4     5     6     5    14     3     3     4     1]\n",
      " [   71     1    11    36    59    89    45    40    43     3  1415]]\n"
     ]
    }
   ],
   "source": [
    "print(confusion_matrix(y_test,y_pred))"
   ]
  },
  {
   "cell_type": "markdown",
   "id": "5a9a742c",
   "metadata": {},
   "source": [
    "### Logistic Regression"
   ]
  },
  {
   "cell_type": "code",
   "execution_count": 93,
   "id": "f74fc493",
   "metadata": {},
   "outputs": [
    {
     "name": "stdout",
     "output_type": "stream",
     "text": [
      "Accuracy: 0.45226642616160606 \n",
      "AUC: 0.6987465343888833\n"
     ]
    }
   ],
   "source": [
    "logreg_dummy =LogisticRegression(random_state=42, solver='lbfgs', multi_class='multinomial', max_iter=400)\n",
    "\n",
    "logreg_dummy.fit(X_train, y_train)\n",
    "y_pred = logreg_dummy.predict(X_test)\n",
    "\n",
    "\n",
    "acc_logreg = accuracy_score(y_pred, y_test)\n",
    "print('Accuracy: {} '.format(acc_logreg))\n",
    "print('AUC: {}'.format(multiclass_roc_auc_score(y_test, y_pred)))"
   ]
  },
  {
   "cell_type": "code",
   "execution_count": null,
   "id": "2e3bd282",
   "metadata": {},
   "outputs": [],
   "source": []
  }
 ],
 "metadata": {
  "kernelspec": {
   "display_name": "Python 3",
   "language": "python",
   "name": "python3"
  },
  "language_info": {
   "codemirror_mode": {
    "name": "ipython",
    "version": 3
   },
   "file_extension": ".py",
   "mimetype": "text/x-python",
   "name": "python",
   "nbconvert_exporter": "python",
   "pygments_lexer": "ipython3",
   "version": "3.8.8"
  }
 },
 "nbformat": 4,
 "nbformat_minor": 5
}
